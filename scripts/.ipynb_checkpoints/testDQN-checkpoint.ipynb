{
 "cells": [
  {
   "cell_type": "code",
   "execution_count": 1,
   "id": "15dc6d14",
   "metadata": {
    "ExecuteTime": {
     "end_time": "2023-11-20T09:55:06.516250Z",
     "start_time": "2023-11-20T09:55:06.511899Z"
    }
   },
   "outputs": [],
   "source": [
    "import sys\n",
    "sys.path.append('/tmp-data/zhx/DriverOrderOfflineRL/cage-challenge-1/CybORG')\n",
    "sys.path.append('/tmp-data/zhx/DriverOrderOfflineRL/tianshou')\n",
    "sys.path.append('/tmp-data/zhx/DriverOrderOfflineRL/tianshou/examples/atari')\n",
    "sys.path.append('/tmp-data/zhx/DriverOrderOfflineRL/gym')\n",
    "sys.path.append('/tmp-data/zhx/DriverOrderOfflineRL')"
   ]
  },
  {
   "cell_type": "code",
   "execution_count": 5,
   "id": "4c306f9c",
   "metadata": {
    "ExecuteTime": {
     "end_time": "2023-11-20T09:56:02.857330Z",
     "start_time": "2023-11-20T09:56:02.827369Z"
    },
    "code_folding": [
     81
    ]
   },
   "outputs": [
    {
     "name": "stderr",
     "output_type": "stream",
     "text": [
      "/tmp-data/conda/anaconda3/envs/rl_test/lib/python3.9/site-packages/torch/cuda/__init__.py:138: UserWarning: CUDA initialization: The NVIDIA driver on your system is too old (found version 11000). Please update your GPU driver by downloading and installing a new version from the URL: http://www.nvidia.com/Download/index.aspx Alternatively, go to: https://pytorch.org to install a PyTorch version that has been compiled with your version of the CUDA driver. (Triggered internally at ../c10/cuda/CUDAFunctions.cpp:108.)\n",
      "  return torch._C._cuda_getDeviceCount() > 0\n"
     ]
    }
   ],
   "source": [
    "import argparse\n",
    "import os\n",
    "import gym\n",
    "import pprint\n",
    "import numpy as np\n",
    "import torch\n",
    "from torch.utils.tensorboard import SummaryWriter\n",
    "\n",
    "from tianshou.data import Collector, VectorReplayBuffer\n",
    "from tianshou.env import DummyVectorEnv, SubprocVectorEnv\n",
    "from tianshou.policy import DQNPolicy\n",
    "from tianshou.trainer import offpolicy_trainer\n",
    "from tianshou.utils import TensorboardLogger\n",
    "from tianshou.utils.net.common import Net\n",
    "\n",
    "\n",
    "def get_args():\n",
    "    parser = argparse.ArgumentParser()\n",
    "    # the parameters are found by Optuna\n",
    "    parser.add_argument('--task', type=str, default='LunarLander-v2')\n",
    "    parser.add_argument('--seed', type=int, default=0)\n",
    "    parser.add_argument('--eps-test', type=float, default=0.01)\n",
    "    parser.add_argument('--eps-train', type=float, default=0.73)\n",
    "    parser.add_argument('--buffer-size', type=int, default=100000)\n",
    "    parser.add_argument('--lr', type=float, default=0.013)\n",
    "    parser.add_argument('--gamma', type=float, default=0.99)\n",
    "    parser.add_argument('--n-step', type=int, default=4)\n",
    "    parser.add_argument('--target-update-freq', type=int, default=500)\n",
    "    parser.add_argument('--epoch', type=int, default=10)\n",
    "    parser.add_argument('--step-per-epoch', type=int, default=80000)\n",
    "    parser.add_argument('--step-per-collect', type=int, default=16)\n",
    "    parser.add_argument('--update-per-step', type=float, default=0.0625)\n",
    "    parser.add_argument('--batch-size', type=int, default=128)\n",
    "    parser.add_argument('--hidden-sizes', type=int, nargs='*', default=[128, 128])\n",
    "    parser.add_argument(\n",
    "        '--dueling-q-hidden-sizes', type=int, nargs='*', default=[128, 128]\n",
    "    )\n",
    "    parser.add_argument(\n",
    "        '--dueling-v-hidden-sizes', type=int, nargs='*', default=[128, 128]\n",
    "    )\n",
    "    parser.add_argument('--training-num', type=int, default=16)\n",
    "    parser.add_argument('--test-num', type=int, default=100)\n",
    "    parser.add_argument('--logdir', type=str, default='log')\n",
    "    parser.add_argument('--render', type=float, default=0.)\n",
    "    parser.add_argument(\n",
    "        '--device', type=str, default='cuda' if torch.cuda.is_available() else 'cpu'\n",
    "    )\n",
    "    return parser.parse_args(args=[])\n"
   ]
  },
  {
   "cell_type": "code",
   "execution_count": 7,
   "id": "27f63bb6",
   "metadata": {
    "ExecuteTime": {
     "end_time": "2023-11-20T10:00:21.065482Z",
     "start_time": "2023-11-20T10:00:21.041183Z"
    }
   },
   "outputs": [],
   "source": [
    "args = get_args()"
   ]
  },
  {
   "cell_type": "code",
   "execution_count": 8,
   "id": "ae4fdeaf",
   "metadata": {
    "ExecuteTime": {
     "end_time": "2023-11-20T10:01:11.424280Z",
     "start_time": "2023-11-20T10:01:11.415001Z"
    }
   },
   "outputs": [
    {
     "name": "stdout",
     "output_type": "stream",
     "text": [
      "state_shpae (8,)\n",
      "action_shape 4\n"
     ]
    }
   ],
   "source": [
    "env = gym.make(args.task)\n",
    "args.state_shape = env.observation_space.shape or env.observation_space.n\n",
    "args.action_shape = env.action_space.shape or env.action_space.n\n",
    "# train_envs = gym.make(args.task)\n",
    "# you can also use tianshou.env.SubprocVectorEnv\n",
    "print(f\"state_shpae {args.state_shape}\")\n",
    "print(f\"action_shape {args.action_shape}\")"
   ]
  },
  {
   "cell_type": "code",
   "execution_count": 18,
   "id": "da9a65f5",
   "metadata": {
    "ExecuteTime": {
     "end_time": "2023-11-20T10:11:21.599296Z",
     "start_time": "2023-11-20T10:11:21.428577Z"
    }
   },
   "outputs": [],
   "source": [
    "train_envs = DummyVectorEnv(\n",
    "    [lambda: gym.make(args.task) for _ in range(args.training_num)]\n",
    ")\n",
    "# test_envs = gym.make(args.task)\n",
    "test_envs = DummyVectorEnv(\n",
    "    [lambda: gym.make(args.task) for _ in range(args.test_num)]\n",
    ")"
   ]
  },
  {
   "cell_type": "code",
   "execution_count": 19,
   "id": "30e92c9d",
   "metadata": {
    "ExecuteTime": {
     "end_time": "2023-11-20T10:11:22.453931Z",
     "start_time": "2023-11-20T10:11:22.431659Z"
    }
   },
   "outputs": [
    {
     "data": {
      "text/plain": [
       "<torch._C.Generator at 0x7fd42412a5f0>"
      ]
     },
     "execution_count": 19,
     "metadata": {},
     "output_type": "execute_result"
    }
   ],
   "source": [
    "# seed\n",
    "np.random.seed(args.seed)\n",
    "torch.manual_seed(args.seed)\n",
    "#     train_envs.seed(args.seed)\n",
    "#     test_envs.seed(args.seed)"
   ]
  },
  {
   "cell_type": "code",
   "execution_count": 20,
   "id": "e8df8c5a",
   "metadata": {
    "ExecuteTime": {
     "end_time": "2023-11-20T10:11:23.013729Z",
     "start_time": "2023-11-20T10:11:22.998733Z"
    }
   },
   "outputs": [],
   "source": [
    "# model\n",
    "Q_param = {\"hidden_sizes\": args.dueling_q_hidden_sizes}\n",
    "V_param = {\"hidden_sizes\": args.dueling_v_hidden_sizes}\n",
    "net = Net(\n",
    "    args.state_shape,\n",
    "    args.action_shape,\n",
    "    hidden_sizes=args.hidden_sizes,\n",
    "    device=args.device,\n",
    "    dueling_param=(Q_param, V_param)\n",
    ").to(args.device)\n",
    "optim = torch.optim.Adam(net.parameters(), lr=args.lr)\n",
    "policy = DQNPolicy(\n",
    "    net,\n",
    "    optim,\n",
    "    args.gamma,\n",
    "    args.n_step,\n",
    "    target_update_freq=args.target_update_freq\n",
    ")"
   ]
  },
  {
   "cell_type": "code",
   "execution_count": 21,
   "id": "c55ae65a",
   "metadata": {
    "ExecuteTime": {
     "end_time": "2023-11-20T10:11:25.374352Z",
     "start_time": "2023-11-20T10:11:25.360375Z"
    }
   },
   "outputs": [],
   "source": [
    "# collector\n",
    "train_collector = Collector(\n",
    "    policy,\n",
    "    train_envs,\n",
    "    VectorReplayBuffer(args.buffer_size, len(train_envs)),\n",
    "    exploration_noise=True\n",
    ")"
   ]
  },
  {
   "cell_type": "code",
   "execution_count": 22,
   "id": "6560fed0",
   "metadata": {
    "ExecuteTime": {
     "end_time": "2023-11-20T10:11:36.734610Z",
     "start_time": "2023-11-20T10:11:36.676389Z"
    }
   },
   "outputs": [],
   "source": [
    "test_collector = Collector(policy, test_envs, exploration_noise=True)"
   ]
  },
  {
   "cell_type": "code",
   "execution_count": 23,
   "id": "91dc436f",
   "metadata": {
    "ExecuteTime": {
     "end_time": "2023-11-20T10:11:50.213654Z",
     "start_time": "2023-11-20T10:11:48.616490Z"
    }
   },
   "outputs": [
    {
     "data": {
      "text/plain": [
       "{'n/ep': 25,\n",
       " 'n/st': 2048,\n",
       " 'rews': array([-402.8311097 , -407.48987997, -455.5510517 , -488.14861103,\n",
       "        -445.23857115, -414.57134548, -440.26449403, -532.76395474,\n",
       "        -553.49539557, -594.50180243, -555.12609841, -554.49067068,\n",
       "        -633.74276703, -688.77426393, -799.08525235, -777.8834943 ,\n",
       "        -281.03109117, -414.32376919, -391.07260162, -404.13890094,\n",
       "        -501.60498565, -448.13768275, -427.91164737, -486.68784593,\n",
       "        -460.81675895]),\n",
       " 'lens': array([50, 51, 55, 55, 56, 57, 57, 60, 61, 65, 67, 68, 73, 81, 82, 84, 50,\n",
       "        50, 54, 51, 61, 62, 60, 55, 61]),\n",
       " 'idxs': array([81250, 43750, 12500, 18750, 62500,  6250, 75000,     0, 68750,\n",
       "        93750, 25000, 87500, 37500, 56250, 50000, 31250, 81300, 43801,\n",
       "        62556, 68811, 12555, 18805, 75057, 87568, 93815]),\n",
       " 'rew': -502.38736184273824,\n",
       " 'len': 61.04,\n",
       " 'rew_std': 119.8082945980234,\n",
       " 'len_std': 9.787665707409504}"
      ]
     },
     "execution_count": 23,
     "metadata": {},
     "output_type": "execute_result"
    }
   ],
   "source": [
    "# policy.set_eps(1)\n",
    "train_collector.collect(n_step=args.batch_size * args.training_num)"
   ]
  },
  {
   "cell_type": "code",
   "execution_count": 24,
   "id": "8ecdb14c",
   "metadata": {
    "ExecuteTime": {
     "end_time": "2023-11-20T10:12:00.966796Z",
     "start_time": "2023-11-20T10:12:00.951525Z"
    }
   },
   "outputs": [],
   "source": [
    "# log\n",
    "log_path = os.path.join(args.logdir, args.task, 'dqn')\n",
    "writer = SummaryWriter(log_path)\n",
    "logger = TensorboardLogger(writer)"
   ]
  },
  {
   "cell_type": "code",
   "execution_count": 25,
   "id": "2c326e1a",
   "metadata": {
    "ExecuteTime": {
     "end_time": "2023-11-20T10:12:32.948733Z",
     "start_time": "2023-11-20T10:12:32.943257Z"
    }
   },
   "outputs": [],
   "source": [
    "def save_best_fn(policy):\n",
    "    torch.save(policy.state_dict(), os.path.join(log_path, 'policy.pth'))\n",
    "\n",
    "def stop_fn(mean_rewards):\n",
    "    return mean_rewards >= env.spec.reward_threshold\n",
    "\n",
    "def train_fn(epoch, env_step):  # exp decay\n",
    "    eps = max(args.eps_train * (1 - 5e-6)**env_step, args.eps_test)\n",
    "    policy.set_eps(eps)\n",
    "\n",
    "def test_fn(epoch, env_step):\n",
    "    policy.set_eps(args.eps_test)"
   ]
  },
  {
   "cell_type": "code",
   "execution_count": null,
   "id": "c470dfb8",
   "metadata": {
    "ExecuteTime": {
     "start_time": "2023-11-20T10:12:34.916Z"
    }
   },
   "outputs": [
    {
     "name": "stderr",
     "output_type": "stream",
     "text": [
      "Epoch #1: 80001it [06:03, 220.24it/s, env_step=80000, len=144, loss=85.258, n/ep=0, n/st=16, rew=14.76]                              \n"
     ]
    },
    {
     "name": "stdout",
     "output_type": "stream",
     "text": [
      "Epoch #1: test_reward: -187.264520 ± 77.689219, best_reward: -187.264520 ± 77.689219 in #1\n"
     ]
    },
    {
     "name": "stderr",
     "output_type": "stream",
     "text": [
      "Epoch #2:  85%|########4 | 67728/80000 [05:57<01:06, 185.09it/s, env_step=147712, len=1000, loss=67.757, n/ep=0, n/st=16, rew=57.51] "
     ]
    }
   ],
   "source": [
    "# trainer\n",
    "result = offpolicy_trainer(\n",
    "    policy,\n",
    "    train_collector,\n",
    "    test_collector,\n",
    "    args.epoch,\n",
    "    args.step_per_epoch,\n",
    "    args.step_per_collect,\n",
    "    args.test_num,\n",
    "    args.batch_size,\n",
    "    update_per_step=args.update_per_step,\n",
    "    stop_fn=stop_fn,\n",
    "    train_fn=train_fn,\n",
    "    test_fn=test_fn,\n",
    "    save_best_fn=save_best_fn,\n",
    "    logger=logger\n",
    ")\n",
    "\n",
    "assert stop_fn(result['best_reward'])\n",
    "\n",
    "pprint.pprint(result)\n",
    "# Let's watch its performance!\n",
    "policy.eval()\n",
    "policy.set_eps(args.eps_test)\n",
    "test_envs.seed(args.seed)\n",
    "test_collector.reset()\n",
    "result = test_collector.collect(n_episode=args.test_num, render=args.render)\n",
    "rews, lens = result[\"rews\"], result[\"lens\"]\n",
    "print(f\"Final reward: {rews.mean()}, length: {lens.mean()}\")\n"
   ]
  },
  {
   "cell_type": "code",
   "execution_count": null,
   "id": "60e9a96a",
   "metadata": {},
   "outputs": [],
   "source": []
  }
 ],
 "metadata": {
  "kernelspec": {
   "display_name": "rl_test",
   "language": "python",
   "name": "rl_test"
  },
  "language_info": {
   "codemirror_mode": {
    "name": "ipython",
    "version": 3
   },
   "file_extension": ".py",
   "mimetype": "text/x-python",
   "name": "python",
   "nbconvert_exporter": "python",
   "pygments_lexer": "ipython3",
   "version": "3.9.12"
  },
  "toc": {
   "base_numbering": 1,
   "nav_menu": {},
   "number_sections": true,
   "sideBar": true,
   "skip_h1_title": false,
   "title_cell": "Table of Contents",
   "title_sidebar": "Contents",
   "toc_cell": false,
   "toc_position": {},
   "toc_section_display": true,
   "toc_window_display": false
  },
  "varInspector": {
   "cols": {
    "lenName": 16,
    "lenType": 16,
    "lenVar": 40
   },
   "kernels_config": {
    "python": {
     "delete_cmd_postfix": "",
     "delete_cmd_prefix": "del ",
     "library": "var_list.py",
     "varRefreshCmd": "print(var_dic_list())"
    },
    "r": {
     "delete_cmd_postfix": ") ",
     "delete_cmd_prefix": "rm(",
     "library": "var_list.r",
     "varRefreshCmd": "cat(var_dic_list()) "
    }
   },
   "types_to_exclude": [
    "module",
    "function",
    "builtin_function_or_method",
    "instance",
    "_Feature"
   ],
   "window_display": false
  }
 },
 "nbformat": 4,
 "nbformat_minor": 5
}
