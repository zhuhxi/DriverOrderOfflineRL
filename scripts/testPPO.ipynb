{
 "cells": [
  {
   "cell_type": "code",
   "execution_count": 1,
   "id": "5e73883c",
   "metadata": {
    "ExecuteTime": {
     "end_time": "2023-11-23T11:11:16.428707Z",
     "start_time": "2023-11-23T11:11:16.424527Z"
    }
   },
   "outputs": [],
   "source": [
    "import sys\n",
    "sys.path.append('/tmp-data/zhx/DriverOrderOfflineRL/cage-challenge-1/CybORG')\n",
    "sys.path.append('/tmp-data/zhx/DriverOrderOfflineRL/tianshou')\n",
    "sys.path.append('/tmp-data/zhx/DriverOrderOfflineRL/tianshou/examples/atari')\n",
    "sys.path.append('/tmp-data/zhx/DriverOrderOfflineRL/gym')\n",
    "sys.path.append('/tmp-data/zhx/DriverOrderOfflineRL')"
   ]
  },
  {
   "cell_type": "markdown",
   "id": "078790e6",
   "metadata": {},
   "source": [
    "### args"
   ]
  },
  {
   "cell_type": "code",
   "execution_count": 8,
   "id": "0c1d7754",
   "metadata": {
    "ExecuteTime": {
     "end_time": "2023-11-23T11:20:23.005018Z",
     "start_time": "2023-11-23T11:20:22.999120Z"
    }
   },
   "outputs": [],
   "source": [
    "import argparse\n",
    "import datetime\n",
    "import os\n",
    "import pprint\n",
    "\n",
    "import numpy as np\n",
    "import torch\n",
    "from torch.utils.tensorboard import SummaryWriter\n",
    "from torch import nn\n",
    "\n",
    "from tianshou.data import Collector, VectorReplayBuffer\n",
    "from tianshou.policy import PPOPolicy\n",
    "from tianshou.policy.modelbased.icm import ICMPolicy\n",
    "from tianshou.trainer import onpolicy_trainer\n",
    "from tianshou.utils import TensorboardLogger, WandbLogger\n",
    "from tianshou.utils.net.discrete import IntrinsicCuriosityModule\n",
    "from tianshou.env import SubprocVectorEnv, DummyVectorEnv\n",
    "from tianshou.utils.net.common import ActorCritic\n",
    "from tianshou.utils.net.discrete import Actor, Critic, IntrinsicCuriosityModule\n",
    "\n",
    "from typing import Any, Dict, Optional, Sequence, Tuple, Union"
   ]
  },
  {
   "cell_type": "code",
   "execution_count": 4,
   "id": "3c283577",
   "metadata": {
    "ExecuteTime": {
     "end_time": "2023-11-23T11:16:48.021696Z",
     "start_time": "2023-11-23T11:16:48.004972Z"
    }
   },
   "outputs": [],
   "source": [
    "def get_args():\n",
    "    parser = argparse.ArgumentParser()\n",
    "    parser.add_argument(\"--task\", type=str, default=\"cyborg\")\n",
    "    parser.add_argument(\"--seed\", type=int, default=0)\n",
    "    parser.add_argument(\"--scale-obs\", type=int, default=0)\n",
    "    parser.add_argument(\"--eps-test\", type=float, default=0.05)\n",
    "    parser.add_argument(\"--eps-train\", type=float, default=1.)\n",
    "    parser.add_argument(\"--eps-train-final\", type=float, default=0.05)\n",
    "    parser.add_argument(\"--buffer-size\", type=int, default=500000)\n",
    "    parser.add_argument(\"--lr\", type=float, default=0.0001)\n",
    "    parser.add_argument(\"--gamma\", type=float, default=0.99)\n",
    "    parser.add_argument(\"--n-step\", type=int, default=1)\n",
    "    parser.add_argument(\"--target-update-freq\", type=int, default=1000)\n",
    "    parser.add_argument(\"--epoch\", type=int, default=2000)\n",
    "    parser.add_argument(\"--step-per-epoch\", type=int, default=10)\n",
    "    parser.add_argument(\"--step-per-collect\", type=int, default=100)\n",
    "    parser.add_argument(\"--repeat-per-collect\", type=int, default=4)\n",
    "    parser.add_argument(\"--update-per-step\", type=float, default=1)\n",
    "    parser.add_argument(\"--batch-size\", type=int, default=32)\n",
    "    parser.add_argument(\"--rew-norm\", type=int, default=False)\n",
    "    parser.add_argument(\"--hidden-size\", type=int, default=512)\n",
    "    parser.add_argument(\"--vf-coef\", type=float, default=0.5)\n",
    "    parser.add_argument(\"--ent-coef\", type=float, default=0.01)\n",
    "    parser.add_argument(\"--gae-lambda\", type=float, default=0.95)\n",
    "    parser.add_argument(\"--lr-decay\", type=int, default=True)\n",
    "    parser.add_argument(\"--training-num\", type=int, default=10)\n",
    "    parser.add_argument(\"--test-num\", type=int, default=10)\n",
    "    parser.add_argument(\"--max-grad-norm\", type=float, default=0.5)\n",
    "    parser.add_argument(\"--eps-clip\", type=float, default=0.2)\n",
    "    parser.add_argument(\"--dual-clip\", type=float, default=None)\n",
    "    parser.add_argument(\"--value-clip\", type=int, default=0)\n",
    "    parser.add_argument(\"--norm-adv\", type=int, default=1)\n",
    "    parser.add_argument(\"--recompute-adv\", type=int, default=0)\n",
    "    parser.add_argument(\"--logdir\", type=str, default=\"log\")\n",
    "    parser.add_argument(\"--render\", type=float, default=0.)\n",
    "    parser.add_argument(\n",
    "        \"--device\", type=str, default=\"cuda\" if torch.cuda.is_available() else \"cpu\"\n",
    "    )\n",
    "    parser.add_argument(\"--frames-stack\", type=int, default=1)\n",
    "    parser.add_argument(\"--resume-path\", type=str, default=None)\n",
    "    parser.add_argument(\"--resume-id\", type=str, default=None)\n",
    "    parser.add_argument(\n",
    "        \"--logger\",\n",
    "        type=str,\n",
    "        default=\"wandb\",\n",
    "        choices=[\"tensorboard\", \"wandb\"],\n",
    "    )\n",
    "    parser.add_argument(\"--wandb-project\", type=str, default=\"cyborg.ppo\")\n",
    "    parser.add_argument(\n",
    "        \"--watch\",\n",
    "        default=False,\n",
    "        action=\"store_true\",\n",
    "        help=\"watch the play of pre-trained policy only\"\n",
    "    )\n",
    "    parser.add_argument(\"--save-buffer-name\", type=str, default=None)\n",
    "    parser.add_argument(\n",
    "        \"--icm-lr-scale\",\n",
    "        type=float,\n",
    "        default=0.,\n",
    "        help=\"use intrinsic curiosity module with this lr scale\"\n",
    "    )\n",
    "    parser.add_argument(\n",
    "        \"--icm-reward-scale\",\n",
    "        type=float,\n",
    "        default=0.01,\n",
    "        help=\"scaling factor for intrinsic curiosity reward\"\n",
    "    )\n",
    "    parser.add_argument(\n",
    "        \"--icm-forward-loss-weight\",\n",
    "        type=float,\n",
    "        default=0.2,\n",
    "        help=\"weight for the forward model loss in ICM\"\n",
    "    )\n",
    "    return parser.parse_args(args=[])"
   ]
  },
  {
   "cell_type": "code",
   "execution_count": 6,
   "id": "af3a6571",
   "metadata": {
    "ExecuteTime": {
     "end_time": "2023-11-23T11:16:59.758734Z",
     "start_time": "2023-11-23T11:16:59.716664Z"
    }
   },
   "outputs": [],
   "source": [
    "args = get_args()"
   ]
  },
  {
   "cell_type": "markdown",
   "id": "69d71967",
   "metadata": {},
   "source": [
    "### env"
   ]
  },
  {
   "cell_type": "code",
   "execution_count": 7,
   "id": "cc2b5860",
   "metadata": {
    "ExecuteTime": {
     "end_time": "2023-11-23T11:18:28.770871Z",
     "start_time": "2023-11-23T11:18:27.690549Z"
    }
   },
   "outputs": [
    {
     "name": "stdout",
     "output_type": "stream",
     "text": [
      "Observations shape: (52,)\n",
      "Actions shape: 54\n"
     ]
    }
   ],
   "source": [
    "import inspect\n",
    "from pprint import pprint\n",
    "from CybORG import CybORG\n",
    "from CybORG.Shared.Actions import *\n",
    "from CybORG.Agents import RedMeanderAgent, B_lineAgent\n",
    "from CybORG.Agents.Wrappers import *\n",
    "\n",
    "path = str(inspect.getfile(CybORG))\n",
    "path = path[:-10] + '/Shared/Scenarios/Scenario1b.yaml'\n",
    "\n",
    "# seed\n",
    "np.random.seed(args.seed)\n",
    "torch.manual_seed(args.seed)\n",
    "\n",
    "# env\n",
    "CYBORG = CybORG(path,'sim', agents={'Red': RedMeanderAgent})\n",
    "env = ChallengeWrapper(env=CYBORG, agent_name=\"Blue\", max_steps=args.step_per_epoch)\n",
    "train_envs = DummyVectorEnv([lambda: ChallengeWrapper(env=CybORG(path,'sim', agents={'Red': RedMeanderAgent}), agent_name=\"Blue\", max_steps=args.step_per_epoch) for _ in range(1)])\n",
    "test_envs = DummyVectorEnv([lambda: ChallengeWrapper(env=CybORG(path,'sim', agents={'Red': RedMeanderAgent}), agent_name=\"Blue\", max_steps=args.step_per_epoch) for _ in range(1)])\n",
    "\n",
    "args.state_shape = env.observation_space.shape or env.observation_space.n\n",
    "args.action_shape = env.action_space.shape or env.action_space.n\n",
    "print(\"Observations shape:\", args.state_shape)\n",
    "print(\"Actions shape:\", args.action_shape)"
   ]
  },
  {
   "cell_type": "markdown",
   "id": "7de91238",
   "metadata": {},
   "source": [
    "### network"
   ]
  },
  {
   "cell_type": "code",
   "execution_count": 31,
   "id": "ee187732",
   "metadata": {
    "ExecuteTime": {
     "end_time": "2023-11-23T11:42:37.083549Z",
     "start_time": "2023-11-23T11:42:37.076014Z"
    }
   },
   "outputs": [],
   "source": [
    "class DQN(nn.Module):\n",
    "    \"\"\"Reference: Human-level control through deep reinforcement learning.\n",
    "\n",
    "    For advanced usage (how to customize the network), please refer to\n",
    "    :ref:`build_the_network`.\n",
    "    \"\"\"\n",
    "\n",
    "    def __init__(\n",
    "        self,\n",
    "        state_shape: Sequence[int],\n",
    "        action_shape: Sequence[int],\n",
    "        device: Union[str, int, torch.device] = \"cpu\",\n",
    "        features_only: bool = False,\n",
    "        output_dim: Optional[int] = None,\n",
    "    ) -> None:\n",
    "        super().__init__()\n",
    "        self.device = device\n",
    "        self.net = nn.Sequential(\n",
    "            nn.Linear(state_shape, 512), nn.ReLU(inplace=True),\n",
    "            nn.Linear(512, 512), nn.ReLU(inplace=True),\n",
    "        )\n",
    "\n",
    "    def forward(\n",
    "        self,\n",
    "        obs: Union[np.ndarray, torch.Tensor],\n",
    "        state: Optional[Any] = None,\n",
    "        info: Dict[str, Any] = {},\n",
    "    ) -> Tuple[torch.Tensor, Any]:\n",
    "        r\"\"\"Mapping: s -> Q(s, \\*).\"\"\"\n",
    "        obs = torch.as_tensor(obs, device=self.device, dtype=torch.float32)\n",
    "        return self.net(obs), state"
   ]
  },
  {
   "cell_type": "code",
   "execution_count": 42,
   "id": "ce791adc",
   "metadata": {
    "ExecuteTime": {
     "end_time": "2023-11-23T11:55:32.764245Z",
     "start_time": "2023-11-23T11:55:32.688944Z"
    }
   },
   "outputs": [
    {
     "ename": "TypeError",
     "evalue": "new(): argument 'size' must be tuple of ints, but found element of type NoneType at pos 2",
     "output_type": "error",
     "traceback": [
      "\u001b[0;31m---------------------------------------------------------------------------\u001b[0m",
      "\u001b[0;31mTypeError\u001b[0m                                 Traceback (most recent call last)",
      "Cell \u001b[0;32mIn[42], line 3\u001b[0m\n\u001b[1;32m      1\u001b[0m \u001b[38;5;66;03m# define model\u001b[39;00m\n\u001b[1;32m      2\u001b[0m net \u001b[38;5;241m=\u001b[39m DQN(args\u001b[38;5;241m.\u001b[39mstate_shape[\u001b[38;5;241m0\u001b[39m], args\u001b[38;5;241m.\u001b[39maction_shape, args\u001b[38;5;241m.\u001b[39mdevice)\u001b[38;5;241m.\u001b[39mto(args\u001b[38;5;241m.\u001b[39mdevice)\n\u001b[0;32m----> 3\u001b[0m actor \u001b[38;5;241m=\u001b[39m \u001b[43mActor\u001b[49m\u001b[43m(\u001b[49m\u001b[43mnet\u001b[49m\u001b[43m,\u001b[49m\u001b[43m \u001b[49m\u001b[43margs\u001b[49m\u001b[38;5;241;43m.\u001b[39;49m\u001b[43maction_shape\u001b[49m\u001b[43m,\u001b[49m\u001b[43m \u001b[49m\u001b[43msoftmax_output\u001b[49m\u001b[38;5;241;43m=\u001b[39;49m\u001b[38;5;28;43;01mFalse\u001b[39;49;00m\u001b[43m,\u001b[49m\u001b[43m \u001b[49m\u001b[43mdevice\u001b[49m\u001b[38;5;241;43m=\u001b[39;49m\u001b[43margs\u001b[49m\u001b[38;5;241;43m.\u001b[39;49m\u001b[43mdevice\u001b[49m\u001b[43m)\u001b[49m\n\u001b[1;32m      4\u001b[0m critic \u001b[38;5;241m=\u001b[39m Critic(net, device\u001b[38;5;241m=\u001b[39margs\u001b[38;5;241m.\u001b[39mdevice)\n\u001b[1;32m      5\u001b[0m optim \u001b[38;5;241m=\u001b[39m torch\u001b[38;5;241m.\u001b[39moptim\u001b[38;5;241m.\u001b[39mAdam(ActorCritic(actor, critic)\u001b[38;5;241m.\u001b[39mparameters(), lr\u001b[38;5;241m=\u001b[39margs\u001b[38;5;241m.\u001b[39mlr)\n",
      "File \u001b[0;32m/tmp-data/zhx/DriverOrderOfflineRL/tianshou/tianshou/utils/net/discrete.py:52\u001b[0m, in \u001b[0;36mActor.__init__\u001b[0;34m(self, preprocess_net, action_shape, hidden_sizes, softmax_output, preprocess_net_output_dim, device)\u001b[0m\n\u001b[1;32m     50\u001b[0m \u001b[38;5;28mself\u001b[39m\u001b[38;5;241m.\u001b[39moutput_dim \u001b[38;5;241m=\u001b[39m \u001b[38;5;28mint\u001b[39m(np\u001b[38;5;241m.\u001b[39mprod(action_shape))\n\u001b[1;32m     51\u001b[0m input_dim \u001b[38;5;241m=\u001b[39m \u001b[38;5;28mgetattr\u001b[39m(preprocess_net, \u001b[38;5;124m\"\u001b[39m\u001b[38;5;124moutput_dim\u001b[39m\u001b[38;5;124m\"\u001b[39m, preprocess_net_output_dim)\n\u001b[0;32m---> 52\u001b[0m \u001b[38;5;28mself\u001b[39m\u001b[38;5;241m.\u001b[39mlast \u001b[38;5;241m=\u001b[39m \u001b[43mMLP\u001b[49m\u001b[43m(\u001b[49m\n\u001b[1;32m     53\u001b[0m \u001b[43m    \u001b[49m\u001b[43minput_dim\u001b[49m\u001b[43m,\u001b[49m\u001b[43m  \u001b[49m\u001b[38;5;66;43;03m# type: ignore\u001b[39;49;00m\n\u001b[1;32m     54\u001b[0m \u001b[43m    \u001b[49m\u001b[38;5;28;43mself\u001b[39;49m\u001b[38;5;241;43m.\u001b[39;49m\u001b[43moutput_dim\u001b[49m\u001b[43m,\u001b[49m\n\u001b[1;32m     55\u001b[0m \u001b[43m    \u001b[49m\u001b[43mhidden_sizes\u001b[49m\u001b[43m,\u001b[49m\n\u001b[1;32m     56\u001b[0m \u001b[43m    \u001b[49m\u001b[43mdevice\u001b[49m\u001b[38;5;241;43m=\u001b[39;49m\u001b[38;5;28;43mself\u001b[39;49m\u001b[38;5;241;43m.\u001b[39;49m\u001b[43mdevice\u001b[49m\n\u001b[1;32m     57\u001b[0m \u001b[43m\u001b[49m\u001b[43m)\u001b[49m\n\u001b[1;32m     58\u001b[0m \u001b[38;5;28mself\u001b[39m\u001b[38;5;241m.\u001b[39msoftmax_output \u001b[38;5;241m=\u001b[39m softmax_output\n",
      "File \u001b[0;32m/tmp-data/zhx/DriverOrderOfflineRL/tianshou/tianshou/utils/net/common.py:98\u001b[0m, in \u001b[0;36mMLP.__init__\u001b[0;34m(self, input_dim, output_dim, hidden_sizes, norm_layer, activation, device, linear_layer, flatten_input)\u001b[0m\n\u001b[1;32m     96\u001b[0m     model \u001b[38;5;241m+\u001b[39m\u001b[38;5;241m=\u001b[39m miniblock(in_dim, out_dim, norm, activ, linear_layer)\n\u001b[1;32m     97\u001b[0m \u001b[38;5;28;01mif\u001b[39;00m output_dim \u001b[38;5;241m>\u001b[39m \u001b[38;5;241m0\u001b[39m:\n\u001b[0;32m---> 98\u001b[0m     model \u001b[38;5;241m+\u001b[39m\u001b[38;5;241m=\u001b[39m [\u001b[43mlinear_layer\u001b[49m\u001b[43m(\u001b[49m\u001b[43mhidden_sizes\u001b[49m\u001b[43m[\u001b[49m\u001b[38;5;241;43m-\u001b[39;49m\u001b[38;5;241;43m1\u001b[39;49m\u001b[43m]\u001b[49m\u001b[43m,\u001b[49m\u001b[43m \u001b[49m\u001b[43moutput_dim\u001b[49m\u001b[43m)\u001b[49m]\n\u001b[1;32m     99\u001b[0m \u001b[38;5;28mself\u001b[39m\u001b[38;5;241m.\u001b[39moutput_dim \u001b[38;5;241m=\u001b[39m output_dim \u001b[38;5;129;01mor\u001b[39;00m hidden_sizes[\u001b[38;5;241m-\u001b[39m\u001b[38;5;241m1\u001b[39m]\n\u001b[1;32m    100\u001b[0m \u001b[38;5;28mself\u001b[39m\u001b[38;5;241m.\u001b[39mmodel \u001b[38;5;241m=\u001b[39m nn\u001b[38;5;241m.\u001b[39mSequential(\u001b[38;5;241m*\u001b[39mmodel)\n",
      "File \u001b[0;32m/tmp-data/conda/anaconda3/envs/rl_test/lib/python3.9/site-packages/torch/nn/modules/linear.py:78\u001b[0m, in \u001b[0;36mLinear.__init__\u001b[0;34m(self, in_features, out_features, bias)\u001b[0m\n\u001b[1;32m     76\u001b[0m \u001b[38;5;28mself\u001b[39m\u001b[38;5;241m.\u001b[39min_features \u001b[38;5;241m=\u001b[39m in_features\n\u001b[1;32m     77\u001b[0m \u001b[38;5;28mself\u001b[39m\u001b[38;5;241m.\u001b[39mout_features \u001b[38;5;241m=\u001b[39m out_features\n\u001b[0;32m---> 78\u001b[0m \u001b[38;5;28mself\u001b[39m\u001b[38;5;241m.\u001b[39mweight \u001b[38;5;241m=\u001b[39m Parameter(\u001b[43mtorch\u001b[49m\u001b[38;5;241;43m.\u001b[39;49m\u001b[43mTensor\u001b[49m\u001b[43m(\u001b[49m\u001b[43mout_features\u001b[49m\u001b[43m,\u001b[49m\u001b[43m \u001b[49m\u001b[43min_features\u001b[49m\u001b[43m)\u001b[49m)\n\u001b[1;32m     79\u001b[0m \u001b[38;5;28;01mif\u001b[39;00m bias:\n\u001b[1;32m     80\u001b[0m     \u001b[38;5;28mself\u001b[39m\u001b[38;5;241m.\u001b[39mbias \u001b[38;5;241m=\u001b[39m Parameter(torch\u001b[38;5;241m.\u001b[39mTensor(out_features))\n",
      "\u001b[0;31mTypeError\u001b[0m: new(): argument 'size' must be tuple of ints, but found element of type NoneType at pos 2"
     ]
    }
   ],
   "source": [
    "# define model\n",
    "net = DQN(args.state_shape[0], args.action_shape, args.device).to(args.device)\n",
    "actor = Actor(net, args.action_shape, softmax_output=False, device=args.device)\n",
    "critic = Critic(net, device=args.device)\n",
    "optim = torch.optim.Adam(ActorCritic(actor, critic).parameters(), lr=args.lr)"
   ]
  },
  {
   "cell_type": "code",
   "execution_count": null,
   "id": "3acfd77a",
   "metadata": {},
   "outputs": [],
   "source": []
  }
 ],
 "metadata": {
  "kernelspec": {
   "display_name": "rl_test",
   "language": "python",
   "name": "rl_test"
  },
  "language_info": {
   "codemirror_mode": {
    "name": "ipython",
    "version": 3
   },
   "file_extension": ".py",
   "mimetype": "text/x-python",
   "name": "python",
   "nbconvert_exporter": "python",
   "pygments_lexer": "ipython3",
   "version": "3.9.12"
  },
  "toc": {
   "base_numbering": 1,
   "nav_menu": {},
   "number_sections": true,
   "sideBar": true,
   "skip_h1_title": false,
   "title_cell": "Table of Contents",
   "title_sidebar": "Contents",
   "toc_cell": false,
   "toc_position": {
    "height": "calc(100% - 180px)",
    "left": "10px",
    "top": "150px",
    "width": "249px"
   },
   "toc_section_display": true,
   "toc_window_display": true
  },
  "varInspector": {
   "cols": {
    "lenName": 16,
    "lenType": 16,
    "lenVar": 40
   },
   "kernels_config": {
    "python": {
     "delete_cmd_postfix": "",
     "delete_cmd_prefix": "del ",
     "library": "var_list.py",
     "varRefreshCmd": "print(var_dic_list())"
    },
    "r": {
     "delete_cmd_postfix": ") ",
     "delete_cmd_prefix": "rm(",
     "library": "var_list.r",
     "varRefreshCmd": "cat(var_dic_list()) "
    }
   },
   "types_to_exclude": [
    "module",
    "function",
    "builtin_function_or_method",
    "instance",
    "_Feature"
   ],
   "window_display": false
  }
 },
 "nbformat": 4,
 "nbformat_minor": 5
}
