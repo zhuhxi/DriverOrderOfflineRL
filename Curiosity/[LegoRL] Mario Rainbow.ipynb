{
 "cells": [
  {
   "cell_type": "markdown",
   "metadata": {},
   "source": [
    "# Rainbow on Mario"
   ]
  },
  {
   "cell_type": "code",
   "execution_count": 1,
   "metadata": {
    "ExecuteTime": {
     "end_time": "2019-12-03T20:31:48.336941Z",
     "start_time": "2019-12-03T20:31:48.186367Z"
    }
   },
   "outputs": [],
   "source": [
    "# Windows: first, install Visual Studio build tools\n",
    "# pip install nes-py\n",
    "# pip install gym-super-mario-bros\n",
    "\n",
    "from nes_py.wrappers import JoypadSpace\n",
    "import gym_super_mario_bros\n",
    "from gym_super_mario_bros.actions import COMPLEX_MOVEMENT"
   ]
  },
  {
   "cell_type": "code",
   "execution_count": 2,
   "metadata": {
    "ExecuteTime": {
     "end_time": "2019-12-03T20:31:49.139609Z",
     "start_time": "2019-12-03T20:31:48.337943Z"
    }
   },
   "outputs": [],
   "source": [
    "# Loading LegoRL library\n",
    "import sys\n",
    "sys.path.append('.\\\\src')  # path to folder with library\n",
    "from LegoRL import *"
   ]
  },
  {
   "cell_type": "markdown",
   "metadata": {},
   "source": [
    "Gameboy has 12 buttons, each can be either on or off at each moment of time (sounds familiar...). It is not a good idea to have 2^12 actions in action space, so there are some sets of buttons combinations. COMPLEX_MOVEMENT is considered as the hardest one although it has only 12 combinations.\n",
    "\n",
    "So, the cardinality of our action space will be 12."
   ]
  },
  {
   "cell_type": "code",
   "execution_count": 3,
   "metadata": {
    "ExecuteTime": {
     "end_time": "2019-12-03T20:31:49.146605Z",
     "start_time": "2019-12-03T20:31:49.140608Z"
    }
   },
   "outputs": [],
   "source": [
    "import matplotlib.pyplot as plt\n",
    "%matplotlib inline\n",
    "import numpy as np\n",
    "\n",
    "import torch\n",
    "import torch.nn as nn\n",
    "import gym"
   ]
  },
  {
   "cell_type": "markdown",
   "metadata": {},
   "source": [
    "# Magic \"Custom Reward\""
   ]
  },
  {
   "cell_type": "code",
   "execution_count": 4,
   "metadata": {
    "ExecuteTime": {
     "end_time": "2019-12-03T20:31:49.245562Z",
     "start_time": "2019-12-03T20:31:49.148604Z"
    }
   },
   "outputs": [],
   "source": [
    "# SOURCE: https://github.com/uvipen/Super-mario-bros-A3C-pytorch/blob/master/src/env.py\n",
    "from gym.spaces import Box\n",
    "from gym import Wrapper\n",
    "import cv2\n",
    "import numpy as np\n",
    "\n",
    "class CustomReward(Wrapper):\n",
    "    def __init__(self, env):\n",
    "        super(CustomReward, self).__init__(env)\n",
    "        self.observation_space = Box(low=0, high=255, shape=(1, 84, 84))\n",
    "        self.curr_score = 0\n",
    "    \n",
    "    def process_frame(self, frame):\n",
    "        frame = cv2.cvtColor(frame, cv2.COLOR_RGB2GRAY)\n",
    "        frame = cv2.resize(frame, (84, 84))[None, :, :] / 255.\n",
    "        return frame\n",
    "    \n",
    "    def step(self, action):\n",
    "        state, reward, done, info = self.env.step(action)\n",
    "        \n",
    "        state = self.process_frame(state)\n",
    "        \n",
    "        reward += (info[\"score\"] - self.curr_score) / 40.\n",
    "        self.curr_score = info[\"score\"]\n",
    "        if done:\n",
    "            if info[\"flag_get\"]:\n",
    "                reward += 50\n",
    "            else:\n",
    "                reward -= 50\n",
    "        return state, reward / 10., done, info\n",
    "\n",
    "    def reset(self):\n",
    "        self.curr_score = 0\n",
    "        return self.process_frame(self.env.reset())\n",
    "\n",
    "\n",
    "class CustomSkipFrame(Wrapper):\n",
    "    def __init__(self, env, skip=4):\n",
    "        super(CustomSkipFrame, self).__init__(env)\n",
    "        self.observation_space = Box(low=0, high=255, shape=(4, 84, 84))\n",
    "        self.skip = skip\n",
    "\n",
    "    def step(self, action):\n",
    "        total_reward = 0\n",
    "        states = []\n",
    "        state, reward, done, info = self.env.step(action)\n",
    "        for i in range(self.skip):\n",
    "            if not done:\n",
    "                state, reward, done, info = self.env.step(action)\n",
    "                total_reward += reward\n",
    "                states.append(state)\n",
    "            else:\n",
    "                states.append(state)\n",
    "        states = np.concatenate(states, 0)[:, :, :]\n",
    "        return states.astype(np.float32), reward, done, info\n",
    "\n",
    "    def reset(self):\n",
    "        state = self.env.reset()\n",
    "        states = np.concatenate([state for _ in range(self.skip)], 0)[:, :, :]\n",
    "        return states.astype(np.float32)"
   ]
  },
  {
   "cell_type": "markdown",
   "metadata": {},
   "source": [
    "# Environment"
   ]
  },
  {
   "cell_type": "code",
   "execution_count": 5,
   "metadata": {
    "ExecuteTime": {
     "end_time": "2019-12-03T20:31:49.352004Z",
     "start_time": "2019-12-03T20:31:49.246561Z"
    }
   },
   "outputs": [],
   "source": [
    "def create_env():\n",
    "    def _thunk():\n",
    "        env = gym_super_mario_bros.make('SuperMarioBros-v0')\n",
    "        env = JoypadSpace(env, COMPLEX_MOVEMENT)             # we want 12 actions instead of 2^12\n",
    "        env = CustomReward(env)\n",
    "        env = CustomSkipFrame(env)\n",
    "        #env = atari_wrappers.ImageToPyTorch(env)             # pytorch wants channels x W x H\n",
    "        return env\n",
    "    return _thunk"
   ]
  },
  {
   "cell_type": "code",
   "execution_count": 6,
   "metadata": {
    "ExecuteTime": {
     "end_time": "2019-12-03T20:31:49.765290Z",
     "start_time": "2019-12-03T20:31:49.355970Z"
    }
   },
   "outputs": [
    {
     "name": "stdout",
     "output_type": "stream",
     "text": [
      "Observation space: Box(4, 84, 84)\n",
      "Action space: Discrete(12)\n"
     ]
    }
   ],
   "source": [
    "env = create_env()()\n",
    "print(\"Observation space:\", env.observation_space)\n",
    "print(\"Action space:\", env.action_space)"
   ]
  },
  {
   "cell_type": "code",
   "execution_count": 7,
   "metadata": {
    "ExecuteTime": {
     "end_time": "2019-12-03T20:31:50.148073Z",
     "start_time": "2019-12-03T20:31:49.766286Z"
    }
   },
   "outputs": [
    {
     "data": {
      "image/png": "[encoded data removed]",
      "text/plain": [
       "<Figure size 360x360 with 1 Axes>"
      ]
     },
     "metadata": {
      "needs_background": "light"
     },
     "output_type": "display_data"
    },
    {
     "data": {
      "image/png": "[encoded data removed]",
      "text/plain": [
       "<Figure size 360x360 with 1 Axes>"
      ]
     },
     "metadata": {
      "needs_background": "light"
     },
     "output_type": "display_data"
    }
   ],
   "source": [
    "env.reset()\n",
    "for _ in range(12):\n",
    "    obs, _, _, _ = env.step(env.action_space.sample())\n",
    "\n",
    "plt.figure(figsize=[5,5])\n",
    "plt.title(\"Game image\")\n",
    "plt.imshow(env.render(\"rgb_array\"))\n",
    "plt.show()\n",
    "\n",
    "plt.figure(figsize=[5,5])\n",
    "plt.title(\"Agent observation (4 frames top to bottom)\")\n",
    "plt.imshow(obs[-1], cmap='gray')\n",
    "plt.show()"
   ]
  },
  {
   "cell_type": "markdown",
   "metadata": {},
   "source": [
    "## NoisyLinear with parallel envs issue"
   ]
  },
  {
   "cell_type": "code",
   "execution_count": 8,
   "metadata": {
    "ExecuteTime": {
     "end_time": "2019-12-03T20:31:51.317302Z",
     "start_time": "2019-12-03T20:31:51.306308Z"
    }
   },
   "outputs": [],
   "source": [
    "import math\n",
    "\n",
    "def HonestNoisyLinear(std_init=0.4):\n",
    "    class HonestNoisyLinear(nn.Linear):\n",
    "        \"\"\"NoisyLinear module for Noisy Net exploration technique\"\"\"\n",
    "        \n",
    "        def __init__(self, in_features, out_features):\n",
    "            super(HonestNoisyLinear, self).__init__(in_features, out_features)\n",
    "            \n",
    "            self.n = in_features\n",
    "            self.m = out_features\n",
    "\n",
    "            sigma_init = std_init / math.sqrt(in_features)\n",
    "            self.n_params = in_features*out_features + out_features\n",
    "            \n",
    "            self.sigma_weight = nn.Parameter(torch.FloatTensor(out_features, in_features).fill_(sigma_init))\n",
    "            self.sigma_bias = nn.Parameter(torch.FloatTensor(out_features).fill_(sigma_init))\n",
    "        \n",
    "        def forward(self, x):\n",
    "            if self.training:\n",
    "                # hack: we need to generate matrix in x out, but that's too many samples\n",
    "                # instead we generate in + out noises and multiply them pairwise\n",
    "                names = x.names\n",
    "                x = x.rename(None)\n",
    "\n",
    "                epsilon_input = torch.randn(*x.shape[:-1], self.n).cuda()\n",
    "                epsilon_output = torch.randn(*x.shape[:-1], self.m).cuda()\n",
    "\n",
    "                scale = lambda e: torch.sign(e) * torch.sqrt(torch.abs(e))\n",
    "                eps_in = scale(epsilon_input)\n",
    "                eps_out = scale(epsilon_output)\n",
    "                \n",
    "                output = (self.weight * x.unsqueeze(-2)).sum(-1) + self.bias\n",
    "                e = self.sigma_weight * torch.bmm(eps_out.unsqueeze(-1), eps_in.unsqueeze(-2))\n",
    "                output = output + torch.bmm(e, x.unsqueeze(-1)).squeeze(-1) + self.sigma_bias * eps_out\n",
    "                return output.rename(*names)\n",
    "            else:        \n",
    "                return F.linear(x, self.weight, self.bias)\n",
    "        \n",
    "        def magnitude(self):\n",
    "            # returns summed magnitudes of noise and number of noisy parameters\n",
    "            return (self.sigma_weight.abs().sum() + self.sigma_bias.abs().sum()).detach().cpu().numpy(), self.n_params\n",
    "    return HonestNoisyLinear"
   ]
  },
  {
   "cell_type": "markdown",
   "metadata": {},
   "source": [
    "# Network"
   ]
  },
  {
   "cell_type": "markdown",
   "metadata": {},
   "source": [
    "Network architecture is taken from curiosity article (nothing fancy)."
   ]
  },
  {
   "cell_type": "code",
   "execution_count": 9,
   "metadata": {
    "ExecuteTime": {
     "end_time": "2019-12-03T20:31:53.745124Z",
     "start_time": "2019-12-03T20:31:53.737116Z"
    }
   },
   "outputs": [],
   "source": [
    "class Flatten(nn.Module):\n",
    "    def __init__(self):\n",
    "        super().__init__()\n",
    "        \n",
    "    def forward(self, x):\n",
    "        return x.view(*x.shape[:-3], -1)\n",
    "\n",
    "class NoisyMarioNN(nn.Module):\n",
    "    def __init__(self):\n",
    "        super().__init__()\n",
    "        \n",
    "        self.layers = nn.Sequential(\n",
    "            nn.Conv2d(4, 32, kernel_size=3, stride=2, padding=1),\n",
    "            nn.ReLU(),\n",
    "            nn.Conv2d(32, 32, kernel_size=4, stride=2, padding=1),\n",
    "            nn.ReLU(),\n",
    "            nn.Conv2d(32, 32, kernel_size=3, stride=2, padding=1),\n",
    "            nn.ReLU(),           \n",
    "            nn.Conv2d(32, 32, kernel_size=3, stride=2, padding=1),\n",
    "            nn.ReLU(),\n",
    "            Flatten(),\n",
    "            HonestNoisyLinear(std_init=0.4)(1152, 256),\n",
    "            nn.Sigmoid()\n",
    "        )\n",
    "        \n",
    "    def forward(self, x):\n",
    "        names = x.names\n",
    "        x = x.rename(None)\n",
    "        return self.layers(x).refine_names(*names[:-3], \"features\")"
   ]
  },
  {
   "cell_type": "markdown",
   "metadata": {},
   "source": [
    "# Model\n",
    "\n",
    "Rainbow; everything as in the article except bias correction in prioritized replay is turned off."
   ]
  },
  {
   "cell_type": "code",
   "execution_count": 10,
   "metadata": {
    "ExecuteTime": {
     "end_time": "2019-12-03T20:31:57.504735Z",
     "start_time": "2019-12-03T20:31:57.489739Z"
    }
   },
   "outputs": [
    {
     "name": "stderr",
     "output_type": "stream",
     "text": [
      "..\\c10/core/TensorImpl.h:864: UserWarning: Named tensors and all their associated APIs are an experimental feature and subject to change. Please do not use them for anything important until they are released as stable.\n"
     ]
    }
   ],
   "source": [
    "agent = Composed(\n",
    "    visualizer      = Visualizer(timer=50),\n",
    "    player          = Player(policy=\"q_head\", timer=3000, records_file_name=\"videos/rainbow\", record_timer=3000),\n",
    "    runner          = Runner(policy=\"q_head\", threads=8),\n",
    "    latency         = NstepLatency(runner=\"runner\", n_steps=3),\n",
    "    replay          = ReplayBuffer(runner=\"latency\", capacity=100000),\n",
    "    sampler         = PrioritizedSampler(replay=\"replay\", clip_priorities=10, batch_size=128, cold_start=1000),\n",
    "    #corrected       = SamplerBiasCorrection(sampler=\"sampler\"),\n",
    "    updater         = PrioritiesUpdater(sampler=\"sampler\", priority_provider=\"loss\"),\n",
    "    backbone        = Backbone(NoisyMarioNN()),\n",
    "    v_head          = ValueHead(backbone=\"backbone\", network=HonestNoisyLinear(), representation=Categorical(-10, 10, 51)(V)),\n",
    "    q_head          = Dueling(backbone=\"backbone\", network=HonestNoisyLinear(), value_head=\"v_head\", representation=Categorical(-10, 10, 51)(Q)),\n",
    "    double          = Double(selector=\"q_head\", evaluator=\"frozen_q_head\"),\n",
    "    target          = Target(evaluator=\"double\"),\n",
    "    loss            = CriticLoss(sampler=\"sampler\", critic=\"q_head\", target=\"target\"),\n",
    "    frozen_backbone = Frozen(Backbone)(source=\"backbone\"),\n",
    "    frozen_v_head   = Frozen(ValueHead)(backbone=\"frozen_backbone\", source=\"v_head\"),\n",
    "    frozen_q_head   = Frozen(Dueling)(backbone=\"frozen_backbone\", value_head=\"frozen_v_head\", source=\"q_head\"),\n",
    "    trainer         = Trainer(backbone=\"backbone\", losses=[\"loss\"], optimizer_args={\"lr\": 0.0001}, clip_gradients=1),\n",
    ")"
   ]
  },
  {
   "cell_type": "markdown",
   "metadata": {},
   "source": [
    "# RUN"
   ]
  },
  {
   "cell_type": "code",
   "execution_count": 11,
   "metadata": {
    "ExecuteTime": {
     "end_time": "2019-12-03T20:32:15.436956Z",
     "start_time": "2019-12-03T20:32:08.121325Z"
    }
   },
   "outputs": [
    {
     "name": "stdout",
     "output_type": "stream",
     "text": [
      "runner: environment initialization... Finished.\n",
      "Adding new head <v_head> to <backbone>:\n",
      "  Input shape is (4, 84, 84)\n",
      "  Backbone feature size is 256\n",
      "  Desired output is torch.Size([51])\n",
      "Adding new head <q_head> to <backbone>:\n",
      "  Input shape is (4, 84, 84)\n",
      "  Backbone feature size is 256\n",
      "  Desired output is torch.Size([51, 12])\n"
     ]
    }
   ],
   "source": [
    "system = System(agent, gamma=0.9, file_name=\"models/legorl_rainbow\", save_timer=1000, make_env=create_env)"
   ]
  },
  {
   "cell_type": "code",
   "execution_count": 12,
   "metadata": {
    "ExecuteTime": {
     "end_time": "2019-12-03T20:32:15.666825Z",
     "start_time": "2019-12-03T20:32:15.438954Z"
    }
   },
   "outputs": [],
   "source": [
    "# loading model from backup\n",
    "system.load()"
   ]
  },
  {
   "cell_type": "code",
   "execution_count": 13,
   "metadata": {
    "ExecuteTime": {
     "end_time": "2019-12-03T20:32:33.680260Z",
     "start_time": "2019-12-03T20:32:33.675271Z"
    }
   },
   "outputs": [
    {
     "data": {
      "text/plain": [
       "['iteration 211000: reloaded (replay buffers are lost)',\n",
       " 'iteration 214000: reloaded (replay buffers are lost)',\n",
       " 'iteration 216000: reloaded (replay buffers are lost)']"
      ]
     },
     "execution_count": 13,
     "metadata": {},
     "output_type": "execute_result"
    }
   ],
   "source": [
    "# some issues during training, had to reload :(\n",
    "system.reload_messages"
   ]
  },
  {
   "cell_type": "code",
   "execution_count": null,
   "metadata": {
    "ExecuteTime": {
     "end_time": "2019-12-04T18:21:28.453721Z",
     "start_time": "2019-12-03T20:32:52.531231Z"
    },
    "scrolled": false
   },
   "outputs": [],
   "source": [
    "system.run(1000000)"
   ]
  },
  {
   "cell_type": "code",
   "execution_count": 16,
   "metadata": {
    "ExecuteTime": {
     "end_time": "2019-12-04T18:22:13.450409Z",
     "start_time": "2019-12-04T18:22:12.399108Z"
    }
   },
   "outputs": [],
   "source": [
    "system.save()"
   ]
  },
  {
   "cell_type": "code",
   "execution_count": null,
   "metadata": {
    "ExecuteTime": {
     "end_time": "2019-12-04T18:25:50.600514Z",
     "start_time": "2019-12-04T18:24:50.262460Z"
    }
   },
   "outputs": [],
   "source": [
    "rollout = agent.player.play(render=True)"
   ]
  },
  {
   "cell_type": "markdown",
   "metadata": {},
   "source": [
    "# Training statistics"
   ]
  },
  {
   "cell_type": "code",
   "execution_count": 17,
   "metadata": {
    "ExecuteTime": {
     "end_time": "2019-12-04T18:22:15.864083Z",
     "start_time": "2019-12-04T18:22:15.847094Z"
    }
   },
   "outputs": [
    {
     "name": "stdout",
     "output_type": "stream",
     "text": [
      "Learning time in hours:  84.49090910732747\n",
      "Frames done:  2359600\n",
      "Fps:  7.757573582405697\n",
      "Episodes played:  2696\n"
     ]
    }
   ],
   "source": [
    "print(\"Learning time in hours: \", sum(system.logger['time']) / 60 / 60)\n",
    "print(\"Frames done: \", agent.runner.frames_done)\n",
    "print(\"Fps: \", agent.runner.frames_done / sum(system.logger['time']))\n",
    "print(\"Episodes played: \", agent.runner.episodes_done)"
   ]
  },
  {
   "cell_type": "code",
   "execution_count": 25,
   "metadata": {
    "ExecuteTime": {
     "end_time": "2019-12-04T18:26:26.311341Z",
     "start_time": "2019-12-04T18:26:26.174369Z"
    }
   },
   "outputs": [
    {
     "data": {
      "text/plain": [
       "Text(0.5, 0, 'episode')"
      ]
     },
     "execution_count": 25,
     "metadata": {},
     "output_type": "execute_result"
    },
    {
     "data": {
      "image/png": "[encoded data removed]",
      "text/plain": [
       "<Figure size 432x288 with 1 Axes>"
      ]
     },
     "metadata": {
      "needs_background": "light"
     },
     "output_type": "display_data"
    }
   ],
   "source": [
    "from LegoRL.utils.visualizer import sliding_average\n",
    "plt.plot(sliding_average(system.logger['rewards'], 1000))\n",
    "plt.title(\"REWARDS\\n(smoothed with window 1000)\")\n",
    "plt.xlabel(\"episode\")"
   ]
  },
  {
   "cell_type": "markdown",
   "metadata": {},
   "source": [
    "## Animation experiments"
   ]
  },
  {
   "cell_type": "code",
   "execution_count": 21,
   "metadata": {
    "ExecuteTime": {
     "end_time": "2019-12-04T18:24:41.360027Z",
     "start_time": "2019-12-04T18:24:41.346009Z"
    }
   },
   "outputs": [],
   "source": [
    "def show_animation(rollout):\n",
    "    \"\"\"\n",
    "    generates animation inline notebook:\n",
    "    input: rollout - Rollout\n",
    "    \"\"\"\n",
    "    from matplotlib import pyplot as plt\n",
    "    from matplotlib import animation, rc\n",
    "    from IPython.display import HTML\n",
    "    \n",
    "    frames = rollout[\"frames\"]\n",
    "    rewards = [0] + [rollout[\"rewards\"][t][0] for t in range(len(rollout[\"rewards\"]))]\n",
    "    actions = [\"\"] + [rollout[\"actions\"][t][0] for t in range(len(rollout[\"actions\"]))]\n",
    "    cumrewards = [0] + list(np.cumsum(rewards))\n",
    "    \n",
    "    plt.figure(figsize=(frames[0].shape[1] / 72.0, frames[0].shape[0] / 72.0), dpi=72)\n",
    "    patch = plt.imshow(frames[0])\n",
    "    plt.axis('off')\n",
    "    \n",
    "    rewards_patch = plt.text(0, 0, \"Reward: \" + (\"%0.2f\" % (cumrewards[0])) + \" (\" + (\"%0.2f\" % (rewards[0])) + \")\", size=15,\n",
    "                                 ha=\"left\", va=\"top\",\n",
    "                                 bbox=dict(boxstyle=\"round\",\n",
    "                                           ec=(0.5, 1., 0.5),\n",
    "                                           fc=(0.8, 1., 0.8),\n",
    "                                           )\n",
    "             )\n",
    "    actions_patch = plt.text(0, 40, \"Action: \" + str(actions[0]), size=15,\n",
    "             ha=\"left\", va=\"top\",\n",
    "             bbox=dict(boxstyle=\"round\",\n",
    "                       ec=(1., 0.5, 0.5),\n",
    "                       fc=(1., 0.8, 0.8),\n",
    "                       )\n",
    "             )\n",
    "\n",
    "    def animate(i):\n",
    "        patch.set_data(frames[i])\n",
    "        rewards_patch.set_text(\"Reward: \" + (\"%0.2f\" % (cumrewards[i])) + \" (\" + (\"%0.2f\" % (rewards[i])) + \")\")\n",
    "        actions_patch.set_text(\"Action: \" + str(actions[i]))\n",
    "\n",
    "    anim = animation.FuncAnimation(plt.gcf(), animate, frames = len(frames), interval=50)\n",
    "    return HTML(anim.to_jshtml())"
   ]
  },
  {
   "cell_type": "code",
   "execution_count": null,
   "metadata": {
    "ExecuteTime": {
     "end_time": "2019-12-04T18:24:42.525425Z",
     "start_time": "2019-12-04T18:24:42.135387Z"
    }
   },
   "outputs": [],
   "source": [
    "show_animation(rollout)"
   ]
  }
 ],
 "metadata": {
  "kernelspec": {
   "display_name": "Python 3",
   "language": "python",
   "name": "python3"
  },
  "language_info": {
   "codemirror_mode": {
    "name": "ipython",
    "version": 3
   },
   "file_extension": ".py",
   "mimetype": "text/x-python",
   "name": "python",
   "nbconvert_exporter": "python",
   "pygments_lexer": "ipython3",
   "version": "3.7.3"
  },
  "notify_time": "30"
 },
 "nbformat": 4,
 "nbformat_minor": 2
}
