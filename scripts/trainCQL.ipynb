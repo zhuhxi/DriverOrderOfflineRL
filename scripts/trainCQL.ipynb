{
 "cells": [
  {
   "cell_type": "code",
   "execution_count": 3,
   "id": "7507f542",
   "metadata": {
    "ExecuteTime": {
     "end_time": "2023-11-13T05:12:54.601590Z",
     "start_time": "2023-11-13T05:12:54.598188Z"
    }
   },
   "outputs": [],
   "source": [
    "import sys\n",
    "sys.path.append('/tmp-data/zhx/DriverOrderOfflineRL/cage-challenge-1/CybORG')\n",
    "sys.path.append('/tmp-data/zhx/DriverOrderOfflineRL/tianshou')"
   ]
  },
  {
   "cell_type": "markdown",
   "id": "63d5ee21",
   "metadata": {},
   "source": [
    "### args define"
   ]
  },
  {
   "cell_type": "code",
   "execution_count": 4,
   "id": "c9791554",
   "metadata": {
    "ExecuteTime": {
     "end_time": "2023-11-13T05:12:55.810547Z",
     "start_time": "2023-11-13T05:12:55.795239Z"
    },
    "code_folding": [
     20
    ]
   },
   "outputs": [],
   "source": [
    "import argparse\n",
    "import datetime\n",
    "import os\n",
    "import pprint\n",
    "\n",
    "import numpy as np\n",
    "import torch\n",
    "from torch.utils.tensorboard import SummaryWriter\n",
    "from torch import nn\n",
    "\n",
    "from tianshou.data import Collector, VectorReplayBuffer\n",
    "from tianshou.policy import DQNPolicy\n",
    "from tianshou.policy.modelbased.icm import ICMPolicy\n",
    "from tianshou.trainer import offpolicy_trainer\n",
    "from tianshou.utils import TensorboardLogger, WandbLogger\n",
    "from tianshou.utils.net.discrete import IntrinsicCuriosityModule\n",
    "from tianshou.env import SubprocVectorEnv\n",
    "\n",
    "from typing import Any, Dict, Optional, Sequence, Tuple, Union\n",
    "\n",
    "\n",
    "def get_args():\n",
    "    parser = argparse.ArgumentParser()\n",
    "    parser.add_argument(\"--task\", type=str, default=\"cyborg\")\n",
    "    parser.add_argument(\"--seed\", type=int, default=0)\n",
    "    parser.add_argument(\"--scale-obs\", type=int, default=0)\n",
    "    parser.add_argument(\"--eps-test\", type=float, default=0.005)\n",
    "    parser.add_argument(\"--eps-train\", type=float, default=1.)\n",
    "    parser.add_argument(\"--eps-train-final\", type=float, default=0.05)\n",
    "    parser.add_argument(\"--buffer-size\", type=int, default=100000)\n",
    "    parser.add_argument(\"--lr\", type=float, default=0.0001)\n",
    "    parser.add_argument(\"--gamma\", type=float, default=0.99)\n",
    "    parser.add_argument(\"--n-step\", type=int, default=3)\n",
    "    parser.add_argument(\"--target-update-freq\", type=int, default=500)\n",
    "    parser.add_argument(\"--epoch\", type=int, default=100)\n",
    "    parser.add_argument(\"--step-per-epoch\", type=int, default=1000)\n",
    "    parser.add_argument(\"--step-per-collect\", type=int, default=10)\n",
    "    parser.add_argument(\"--update-per-step\", type=float, default=0.1)\n",
    "    parser.add_argument(\"--batch-size\", type=int, default=64)\n",
    "    parser.add_argument(\"--training-num\", type=int, default=10)\n",
    "    parser.add_argument(\"--test-num\", type=int, default=10)\n",
    "    parser.add_argument(\"--logdir\", type=str, default=\"log\")\n",
    "    parser.add_argument(\"--render\", type=float, default=0.)\n",
    "    parser.add_argument(\n",
    "        \"--device\", type=str, default=\"cuda\" if torch.cuda.is_available() else \"cpu\"\n",
    "    )\n",
    "    parser.add_argument(\"--frames-stack\", type=int, default=1)\n",
    "    parser.add_argument(\"--resume-path\", type=str, default=None)\n",
    "    parser.add_argument(\"--resume-id\", type=str, default=None)\n",
    "    parser.add_argument(\n",
    "        \"--logger\",\n",
    "        type=str,\n",
    "        default=\"wandb\",\n",
    "        choices=[\"tensorboard\", \"wandb\"],\n",
    "    )\n",
    "    parser.add_argument(\"--wandb-project\", type=str, default=\"cyborg.dqn\")\n",
    "    parser.add_argument(\n",
    "        \"--watch\",\n",
    "        default=False,\n",
    "        action=\"store_true\",\n",
    "        help=\"watch the play of pre-trained policy only\"\n",
    "    )\n",
    "    parser.add_argument(\"--save-buffer-name\", type=str, default=None)\n",
    "    parser.add_argument(\n",
    "        \"--icm-lr-scale\",\n",
    "        type=float,\n",
    "        default=0.,\n",
    "        help=\"use intrinsic curiosity module with this lr scale\"\n",
    "    )\n",
    "    parser.add_argument(\n",
    "        \"--icm-reward-scale\",\n",
    "        type=float,\n",
    "        default=0.01,\n",
    "        help=\"scaling factor for intrinsic curiosity reward\"\n",
    "    )\n",
    "    parser.add_argument(\n",
    "        \"--icm-forward-loss-weight\",\n",
    "        type=float,\n",
    "        default=0.2,\n",
    "        help=\"weight for the forward model loss in ICM\"\n",
    "    )\n",
    "    return parser.parse_args(args=[])\n"
   ]
  },
  {
   "cell_type": "markdown",
   "id": "f3279033",
   "metadata": {},
   "source": [
    "### env"
   ]
  },
  {
   "cell_type": "code",
   "execution_count": 5,
   "id": "75429fb1",
   "metadata": {
    "ExecuteTime": {
     "end_time": "2023-11-13T05:12:56.581193Z",
     "start_time": "2023-11-13T05:12:56.573633Z"
    }
   },
   "outputs": [
    {
     "name": "stderr",
     "output_type": "stream",
     "text": [
      "/tmp-data/conda/anaconda3/envs/rl_test/lib/python3.9/site-packages/torch/cuda/__init__.py:138: UserWarning: CUDA initialization: The NVIDIA driver on your system is too old (found version 11000). Please update your GPU driver by downloading and installing a new version from the URL: http://www.nvidia.com/Download/index.aspx Alternatively, go to: https://pytorch.org to install a PyTorch version that has been compiled with your version of the CUDA driver. (Triggered internally at ../c10/cuda/CUDAFunctions.cpp:108.)\n",
      "  return torch._C._cuda_getDeviceCount() > 0\n"
     ]
    }
   ],
   "source": [
    "args = get_args()"
   ]
  },
  {
   "cell_type": "code",
   "execution_count": 6,
   "id": "10f52551",
   "metadata": {
    "ExecuteTime": {
     "end_time": "2023-11-13T05:12:57.722952Z",
     "start_time": "2023-11-13T05:12:56.741014Z"
    }
   },
   "outputs": [],
   "source": [
    "import inspect\n",
    "from pprint import pprint\n",
    "from CybORG import CybORG\n",
    "from CybORG.Shared.Actions import *\n",
    "from CybORG.Agents import RedMeanderAgent, B_lineAgent\n",
    "from CybORG.Agents.Wrappers import *\n",
    "\n",
    "path = str(inspect.getfile(CybORG))\n",
    "path = path[:-10] + '/Shared/Scenarios/Scenario1b.yaml'\n",
    "\n",
    "# seed\n",
    "np.random.seed(args.seed)\n",
    "torch.manual_seed(args.seed)\n",
    "\n",
    "# env\n",
    "CYBORG = CybORG(path,'sim', agents={'Red': B_lineAgent})\n",
    "env = ChallengeWrapper(env=CYBORG, agent_name=\"Blue\", max_steps=args.step_per_epoch)\n",
    "train_envs = SubprocVectorEnv([lambda: ChallengeWrapper(env=CYBORG, agent_name=\"Blue\", max_steps=args.step_per_epoch) for _ in range(5)])\n",
    "test_envs = SubprocVectorEnv([lambda: ChallengeWrapper(env=CYBORG, agent_name=\"Blue\", max_steps=args.step_per_epoch) for _ in range(5)])"
   ]
  },
  {
   "cell_type": "code",
   "execution_count": 7,
   "id": "b76bbea5",
   "metadata": {
    "ExecuteTime": {
     "end_time": "2023-11-13T05:12:57.761566Z",
     "start_time": "2023-11-13T05:12:57.757421Z"
    }
   },
   "outputs": [
    {
     "name": "stdout",
     "output_type": "stream",
     "text": [
      "Observations shape: (52,)\n",
      "Actions shape: 54\n"
     ]
    }
   ],
   "source": [
    "args.state_shape = env.observation_space.shape or env.observation_space.n\n",
    "args.action_shape = env.action_space.shape or env.action_space.n\n",
    "print(\"Observations shape:\", args.state_shape)\n",
    "print(\"Actions shape:\", args.action_shape)"
   ]
  },
  {
   "cell_type": "markdown",
   "id": "8bdd4a74",
   "metadata": {},
   "source": [
    "### network"
   ]
  },
  {
   "cell_type": "code",
   "execution_count": 8,
   "id": "0186ad5d",
   "metadata": {
    "ExecuteTime": {
     "end_time": "2023-11-13T05:12:57.800169Z",
     "start_time": "2023-11-13T05:12:57.791098Z"
    }
   },
   "outputs": [],
   "source": [
    "class D5QN(nn.Module):\n",
    "    \"\"\"Reference: Human-level control through deep reinforcement learning.\n",
    "\n",
    "    For advanced usage (how to customize the network), please refer to\n",
    "    :ref:`build_the_network`.\n",
    "    \"\"\"\n",
    "\n",
    "    def __init__(\n",
    "        self,\n",
    "        state_shape: Sequence[int],\n",
    "        action_shape: Sequence[int],\n",
    "        device: Union[str, int, torch.device] = \"cpu\",\n",
    "        features_only: bool = False,\n",
    "        output_dim: Optional[int] = None,\n",
    "    ) -> None:\n",
    "        super().__init__()\n",
    "        self.device = device\n",
    "        self.net = nn.Sequential(\n",
    "            nn.Linear(state_shape, 512), nn.ReLU(inplace=True),\n",
    "            nn.Linear(512, action_shape)\n",
    "        )\n",
    "\n",
    "    def forward(\n",
    "        self,\n",
    "        obs: Union[np.ndarray, torch.Tensor],\n",
    "        state: Optional[Any] = None,\n",
    "        info: Dict[str, Any] = {},\n",
    "    ) -> Tuple[torch.Tensor, Any]:\n",
    "        r\"\"\"Mapping: s -> Q(s, \\*).\"\"\"\n",
    "        obs = torch.as_tensor(obs, device=self.device, dtype=torch.float32)\n",
    "        return self.net(obs), state"
   ]
  },
  {
   "cell_type": "markdown",
   "id": "382f95ab",
   "metadata": {},
   "source": [
    "### define policy"
   ]
  },
  {
   "cell_type": "code",
   "execution_count": 9,
   "id": "a235fd7a",
   "metadata": {
    "ExecuteTime": {
     "end_time": "2023-11-13T05:13:01.775155Z",
     "start_time": "2023-11-13T05:12:57.958552Z"
    },
    "code_folding": []
   },
   "outputs": [],
   "source": [
    "# define model\n",
    "net = D5QN(args.state_shape[0], args.action_shape, args.device).to(args.device)\n",
    "optim = torch.optim.Adam(net.parameters(), lr=args.lr)\n",
    "# define policy\n",
    "policy = DQNPolicy(\n",
    "    net,\n",
    "    optim,\n",
    "    args.gamma,\n",
    "    args.n_step,\n",
    "    target_update_freq=args.target_update_freq\n",
    ")"
   ]
  },
  {
   "cell_type": "code",
   "execution_count": 10,
   "id": "80961bd6",
   "metadata": {
    "ExecuteTime": {
     "end_time": "2023-11-13T05:13:01.814001Z",
     "start_time": "2023-11-13T05:13:01.809146Z"
    }
   },
   "outputs": [],
   "source": [
    "if args.icm_lr_scale > 0:\n",
    "    feature_net = DQN(\n",
    "        args.state_shape[0], args.action_shape, args.device, features_only=True\n",
    "    )\n",
    "    action_dim = np.prod(args.action_shape)\n",
    "    feature_dim = feature_net.output_dim\n",
    "    icm_net = IntrinsicCuriosityModule(\n",
    "        feature_net.net,\n",
    "        feature_dim,\n",
    "        action_dim,\n",
    "        hidden_sizes=[512],\n",
    "        device=args.device\n",
    "    )\n",
    "    icm_optim = torch.optim.Adam(icm_net.parameters(), lr=args.lr)\n",
    "    policy = ICMPolicy(\n",
    "        policy, icm_net, icm_optim, args.icm_lr_scale, args.icm_reward_scale,\n",
    "        args.icm_forward_loss_weight\n",
    "    ).to(args.device)"
   ]
  },
  {
   "cell_type": "markdown",
   "id": "b6dd7508",
   "metadata": {},
   "source": [
    "### load policy"
   ]
  },
  {
   "cell_type": "code",
   "execution_count": 11,
   "id": "36eb9daf",
   "metadata": {
    "ExecuteTime": {
     "end_time": "2023-11-13T05:13:01.848784Z",
     "start_time": "2023-11-13T05:13:01.845711Z"
    }
   },
   "outputs": [],
   "source": [
    "# load a previous policy\n",
    "if args.resume_path:\n",
    "    policy.load_state_dict(torch.load(args.resume_path, map_location=args.device))\n",
    "    print(\"Loaded agent from: \", args.resume_path)"
   ]
  },
  {
   "cell_type": "markdown",
   "id": "3d6db66d",
   "metadata": {},
   "source": [
    "### replay buffer"
   ]
  },
  {
   "cell_type": "code",
   "execution_count": 12,
   "id": "9cf1cf21",
   "metadata": {
    "ExecuteTime": {
     "end_time": "2023-11-13T05:13:04.205626Z",
     "start_time": "2023-11-13T05:13:01.881840Z"
    }
   },
   "outputs": [],
   "source": [
    "# replay buffer: `save_last_obs` and `stack_num` can be removed together\n",
    "# when you have enough RAM\n",
    "buffer = VectorReplayBuffer(\n",
    "    args.buffer_size,\n",
    "    buffer_num=len(train_envs),\n",
    "    ignore_obs_next=True,\n",
    "    save_only_last_obs=False,\n",
    "    stack_num=args.frames_stack\n",
    ")"
   ]
  },
  {
   "cell_type": "markdown",
   "id": "d9a02488",
   "metadata": {},
   "source": [
    "### collector"
   ]
  },
  {
   "cell_type": "code",
   "execution_count": 13,
   "id": "9a1a7dd6",
   "metadata": {
    "ExecuteTime": {
     "end_time": "2023-11-13T05:13:04.302431Z",
     "start_time": "2023-11-13T05:13:04.236872Z"
    }
   },
   "outputs": [],
   "source": [
    "# collector\n",
    "train_collector = Collector(policy, train_envs, buffer, exploration_noise=True)\n",
    "test_collector = Collector(policy, test_envs, exploration_noise=True)"
   ]
  },
  {
   "cell_type": "markdown",
   "id": "5300f5e8",
   "metadata": {},
   "source": [
    "### log"
   ]
  },
  {
   "cell_type": "code",
   "execution_count": 14,
   "id": "dcf359c5",
   "metadata": {
    "ExecuteTime": {
     "end_time": "2023-11-13T05:13:04.337046Z",
     "start_time": "2023-11-13T05:13:04.333220Z"
    }
   },
   "outputs": [],
   "source": [
    "# log\n",
    "now = datetime.datetime.now().strftime(\"%y%m%d-%H%M%S\")\n",
    "args.algo_name = \"dqn_icm\" if args.icm_lr_scale > 0 else \"dqn\"\n",
    "log_name = os.path.join(args.task, args.algo_name, str(args.seed), now)\n",
    "log_path = os.path.join(args.logdir, log_name)"
   ]
  },
  {
   "cell_type": "code",
   "execution_count": 15,
   "id": "6e5f51e9",
   "metadata": {
    "ExecuteTime": {
     "end_time": "2023-11-13T05:13:07.488097Z",
     "start_time": "2023-11-13T05:13:04.371385Z"
    }
   },
   "outputs": [
    {
     "name": "stderr",
     "output_type": "stream",
     "text": [
      "Failed to detect the name of this notebook, you can set it manually with the WANDB_NOTEBOOK_NAME environment variable to enable code saving.\n",
      "\u001b[34m\u001b[1mwandb\u001b[0m: Currently logged in as: \u001b[33mhongxi\u001b[0m. Use \u001b[1m`wandb login --relogin`\u001b[0m to force relogin\n",
      "/usr/bin/nvidia-modprobe: unrecognized option: \"-s\"\n",
      "\n",
      "ERROR: Invalid commandline, please run `/usr/bin/nvidia-modprobe --help` for usage information.\n",
      "\n",
      "\n",
      "/usr/bin/nvidia-modprobe: unrecognized option: \"-s\"\n",
      "\n",
      "ERROR: Invalid commandline, please run `/usr/bin/nvidia-modprobe --help` for usage information.\n",
      "\n",
      "\n",
      "/tmp-data/conda/anaconda3/envs/rl_test/lib/python3.9/site-packages/wandb/sdk/lib/ipython.py:77: DeprecationWarning: Importing display from IPython.core.display is deprecated since IPython 7.14, please import from IPython display\n",
      "  from IPython.core.display import HTML, display  # type: ignore\n"
     ]
    },
    {
     "data": {
      "text/html": [
       "Tracking run with wandb version 0.16.0"
      ],
      "text/plain": [
       "<IPython.core.display.HTML object>"
      ]
     },
     "metadata": {},
     "output_type": "display_data"
    },
    {
     "data": {
      "text/html": [
       "Run data is saved locally in <code>/tmp-data/zhx/DriverOrderOfflineRL/scripts/wandb/run-20231113_051305-tl2s18c2</code>"
      ],
      "text/plain": [
       "<IPython.core.display.HTML object>"
      ]
     },
     "metadata": {},
     "output_type": "display_data"
    },
    {
     "data": {
      "text/html": [
       "Syncing run <strong><a href='https://wandb.ai/hongxi/cyborg.dqn/runs/tl2s18c2' target=\"_blank\">cyborg__dqn__0__231113-051304</a></strong> to <a href='https://wandb.ai/hongxi/cyborg.dqn' target=\"_blank\">Weights & Biases</a> (<a href='https://wandb.me/run' target=\"_blank\">docs</a>)<br/>"
      ],
      "text/plain": [
       "<IPython.core.display.HTML object>"
      ]
     },
     "metadata": {},
     "output_type": "display_data"
    },
    {
     "data": {
      "text/html": [
       " View project at <a href='https://wandb.ai/hongxi/cyborg.dqn' target=\"_blank\">https://wandb.ai/hongxi/cyborg.dqn</a>"
      ],
      "text/plain": [
       "<IPython.core.display.HTML object>"
      ]
     },
     "metadata": {},
     "output_type": "display_data"
    },
    {
     "data": {
      "text/html": [
       " View run at <a href='https://wandb.ai/hongxi/cyborg.dqn/runs/tl2s18c2' target=\"_blank\">https://wandb.ai/hongxi/cyborg.dqn/runs/tl2s18c2</a>"
      ],
      "text/plain": [
       "<IPython.core.display.HTML object>"
      ]
     },
     "metadata": {},
     "output_type": "display_data"
    }
   ],
   "source": [
    "# logger\n",
    "if args.logger == \"wandb\":\n",
    "    logger = WandbLogger(\n",
    "        save_interval=1,\n",
    "        name=log_name.replace(os.path.sep, \"__\"),\n",
    "        run_id=args.resume_id,\n",
    "        config=args,\n",
    "        project=args.wandb_project,\n",
    "    )\n",
    "writer = SummaryWriter(log_path)\n",
    "writer.add_text(\"args\", str(args))\n",
    "if args.logger == \"tensorboard\":\n",
    "    logger = TensorboardLogger(writer)\n",
    "else:  # wandb\n",
    "    logger.load(writer)"
   ]
  },
  {
   "cell_type": "markdown",
   "id": "34c70cb2",
   "metadata": {},
   "source": [
    "### train helper funciton"
   ]
  },
  {
   "cell_type": "code",
   "execution_count": 16,
   "id": "4ec7a609",
   "metadata": {
    "ExecuteTime": {
     "end_time": "2023-11-13T05:13:07.537869Z",
     "start_time": "2023-11-13T05:13:07.525278Z"
    },
    "code_folding": [
     0,
     3,
     6,
     17,
     20,
     27
    ]
   },
   "outputs": [],
   "source": [
    "def save_best_fn(policy):\n",
    "    torch.save(policy.state_dict(), os.path.join(log_path, \"policy.pth\"))\n",
    "\n",
    "def stop_fn(mean_rewards):\n",
    "    return mean_rewards >= 20\n",
    "\n",
    "def train_fn(epoch, env_step):\n",
    "    # nature DQN setting, linear decay in the first 1M steps\n",
    "    if env_step <= 1e6:\n",
    "        eps = args.eps_train - env_step / 1e6 * \\\n",
    "            (args.eps_train - args.eps_train_final)\n",
    "    else:\n",
    "        eps = args.eps_train_final\n",
    "    policy.set_eps(eps)\n",
    "    if env_step % 1000 == 0:\n",
    "        logger.write(\"train/env_step\", env_step, {\"train/eps\": eps})\n",
    "\n",
    "def test_fn(epoch, env_step):\n",
    "    policy.set_eps(args.eps_test)\n",
    "\n",
    "def save_checkpoint_fn(epoch, env_step, gradient_step):\n",
    "    # see also: https://pytorch.org/tutorials/beginner/saving_loading_models.html\n",
    "    ckpt_path = os.path.join(log_path, \"checkpoint.pth\")\n",
    "    torch.save({\"model\": policy.state_dict()}, ckpt_path)\n",
    "    return ckpt_path\n",
    "\n",
    "# watch agent's performance\n",
    "def watch():\n",
    "    print(\"Setup test envs ...\")\n",
    "    policy.eval()\n",
    "    policy.set_eps(args.eps_test)\n",
    "    test_envs.seed(args.seed)\n",
    "    if args.save_buffer_name:\n",
    "        print(f\"Generate buffer with size {args.buffer_size}\")\n",
    "        buffer = VectorReplayBuffer(\n",
    "            args.buffer_size,\n",
    "            buffer_num=len(test_envs),\n",
    "            ignore_obs_next=True,\n",
    "            save_only_last_obs=True,\n",
    "            stack_num=args.frames_stack\n",
    "        )\n",
    "        collector = Collector(policy, test_envs, buffer, exploration_noise=True)\n",
    "        result = collector.collect(n_step=args.buffer_size)\n",
    "        print(f\"Save buffer into {args.save_buffer_name}\")\n",
    "        # Unfortunately, pickle will cause oom with 1M buffer size\n",
    "        buffer.save_hdf5(args.save_buffer_name)\n",
    "    else:\n",
    "        print(\"Testing agent ...\")\n",
    "        test_collector.reset()\n",
    "        result = test_collector.collect(\n",
    "            n_episode=args.test_num, render=args.render\n",
    "        )\n",
    "    rew = result[\"rews\"].mean()\n",
    "    print(f\"Mean reward (over {result['n/ep']} episodes): {rew}\")"
   ]
  },
  {
   "cell_type": "code",
   "execution_count": 17,
   "id": "5fbcde75",
   "metadata": {
    "ExecuteTime": {
     "end_time": "2023-11-13T05:13:07.577271Z",
     "start_time": "2023-11-13T05:13:07.574113Z"
    }
   },
   "outputs": [],
   "source": [
    "### train core"
   ]
  },
  {
   "cell_type": "code",
   "execution_count": null,
   "id": "f21444cc",
   "metadata": {
    "ExecuteTime": {
     "start_time": "2023-11-13T05:13:01.647Z"
    },
    "code_folding": []
   },
   "outputs": [
    {
     "name": "stderr",
     "output_type": "stream",
     "text": [
      "Epoch #1: 1001it [00:08, 113.63it/s, env_step=1000, len=0, loss=1038.091, n/ep=0, n/st=10, rew=0.00]                          \n"
     ]
    },
    {
     "name": "stdout",
     "output_type": "stream",
     "text": [
      "Epoch #1: test_reward: -10505.610000 ± 3671.260844, best_reward: -10505.610000 ± 3671.260844 in #1\n"
     ]
    },
    {
     "name": "stderr",
     "output_type": "stream",
     "text": [
      "Epoch #2: 1001it [00:10, 96.79it/s, env_step=2000, len=0, loss=544.229, n/ep=0, n/st=10, rew=0.00]                          \n"
     ]
    },
    {
     "name": "stdout",
     "output_type": "stream",
     "text": [
      "Epoch #2: test_reward: -3060.630000 ± 275.558564, best_reward: -3060.630000 ± 275.558564 in #2\n"
     ]
    },
    {
     "name": "stderr",
     "output_type": "stream",
     "text": [
      "Epoch #3: 1001it [00:09, 102.96it/s, env_step=3000, len=0, loss=394.813, n/ep=0, n/st=10, rew=0.00]                          \n"
     ]
    },
    {
     "name": "stdout",
     "output_type": "stream",
     "text": [
      "Epoch #3: test_reward: -2810.960000 ± 374.251932, best_reward: -2810.960000 ± 374.251932 in #3\n"
     ]
    },
    {
     "name": "stderr",
     "output_type": "stream",
     "text": [
      "Epoch #4: 1001it [00:08, 122.72it/s, env_step=4000, len=0, loss=298.952, n/ep=0, n/st=10, rew=0.00]                          \n"
     ]
    },
    {
     "name": "stdout",
     "output_type": "stream",
     "text": [
      "Epoch #4: test_reward: -11596.260000 ± 2436.488336, best_reward: -2810.960000 ± 374.251932 in #3\n"
     ]
    },
    {
     "name": "stderr",
     "output_type": "stream",
     "text": [
      "Epoch #5: 1001it [00:08, 116.97it/s, env_step=5000, len=1000, loss=258.702, n/ep=0, n/st=10, rew=-3343.20]                         \n"
     ]
    },
    {
     "name": "stdout",
     "output_type": "stream",
     "text": [
      "Epoch #5: test_reward: -10887.510000 ± 3170.688636, best_reward: -2810.960000 ± 374.251932 in #3\n"
     ]
    },
    {
     "name": "stderr",
     "output_type": "stream",
     "text": [
      "Epoch #6: 1001it [00:09, 104.26it/s, env_step=6000, len=1000, loss=225.124, n/ep=0, n/st=10, rew=-3343.20]                          \n"
     ]
    },
    {
     "name": "stdout",
     "output_type": "stream",
     "text": [
      "Epoch #6: test_reward: -11864.050000 ± 2894.592107, best_reward: -2810.960000 ± 374.251932 in #3\n"
     ]
    },
    {
     "name": "stderr",
     "output_type": "stream",
     "text": [
      "Epoch #7: 1001it [00:09, 105.09it/s, env_step=7000, len=1000, loss=189.323, n/ep=0, n/st=10, rew=-3343.20]                         \n"
     ]
    },
    {
     "name": "stdout",
     "output_type": "stream",
     "text": [
      "Epoch #7: test_reward: -3036.060000 ± 100.565195, best_reward: -2810.960000 ± 374.251932 in #3\n"
     ]
    },
    {
     "name": "stderr",
     "output_type": "stream",
     "text": [
      "Epoch #8: 1001it [00:08, 114.44it/s, env_step=8000, len=1000, loss=170.587, n/ep=0, n/st=10, rew=-3343.20]                          \n"
     ]
    },
    {
     "name": "stdout",
     "output_type": "stream",
     "text": [
      "Epoch #8: test_reward: -2963.760000 ± 275.327373, best_reward: -2810.960000 ± 374.251932 in #3\n"
     ]
    },
    {
     "name": "stderr",
     "output_type": "stream",
     "text": [
      "Epoch #9: 1001it [00:10, 96.25it/s, env_step=9000, len=1000, loss=166.237, n/ep=0, n/st=10, rew=-3343.20]                           \n"
     ]
    },
    {
     "name": "stdout",
     "output_type": "stream",
     "text": [
      "Epoch #9: test_reward: -2886.690000 ± 349.444990, best_reward: -2810.960000 ± 374.251932 in #3\n"
     ]
    },
    {
     "name": "stderr",
     "output_type": "stream",
     "text": [
      "Epoch #10: 1001it [00:09, 106.01it/s, env_step=10000, len=1000, loss=161.529, n/ep=0, n/st=10, rew=-1814.68]                          \n"
     ]
    },
    {
     "name": "stdout",
     "output_type": "stream",
     "text": [
      "Epoch #10: test_reward: -2992.560000 ± 507.831910, best_reward: -2810.960000 ± 374.251932 in #3\n"
     ]
    },
    {
     "name": "stderr",
     "output_type": "stream",
     "text": [
      "Epoch #11: 1001it [00:09, 101.49it/s, env_step=11000, len=1000, loss=154.707, n/ep=0, n/st=10, rew=-1814.68]                         \n"
     ]
    },
    {
     "name": "stdout",
     "output_type": "stream",
     "text": [
      "Epoch #11: test_reward: -3007.920000 ± 117.930970, best_reward: -2810.960000 ± 374.251932 in #3\n"
     ]
    },
    {
     "name": "stderr",
     "output_type": "stream",
     "text": [
      "Epoch #12: 1001it [00:10, 92.93it/s, env_step=12000, len=1000, loss=138.595, n/ep=0, n/st=10, rew=-1814.68]                           \n"
     ]
    },
    {
     "name": "stdout",
     "output_type": "stream",
     "text": [
      "Epoch #12: test_reward: -2987.580000 ± 178.094507, best_reward: -2810.960000 ± 374.251932 in #3\n"
     ]
    },
    {
     "name": "stderr",
     "output_type": "stream",
     "text": [
      "Epoch #13: 1001it [00:08, 114.27it/s, env_step=13000, len=1000, loss=131.553, n/ep=0, n/st=10, rew=-1814.68]                          \n"
     ]
    },
    {
     "name": "stdout",
     "output_type": "stream",
     "text": [
      "Epoch #13: test_reward: -2879.090000 ± 266.559935, best_reward: -2810.960000 ± 374.251932 in #3\n"
     ]
    },
    {
     "name": "stderr",
     "output_type": "stream",
     "text": [
      "Epoch #14: 1001it [00:09, 108.75it/s, env_step=14000, len=1000, loss=126.611, n/ep=0, n/st=10, rew=-1814.68]                         \n"
     ]
    },
    {
     "name": "stdout",
     "output_type": "stream",
     "text": [
      "Epoch #14: test_reward: -2916.100000 ± 190.750177, best_reward: -2810.960000 ± 374.251932 in #3\n"
     ]
    },
    {
     "name": "stderr",
     "output_type": "stream",
     "text": [
      "Epoch #15: 1001it [00:08, 112.65it/s, env_step=15000, len=1000, loss=117.218, n/ep=0, n/st=10, rew=-2084.18]                          \n"
     ]
    },
    {
     "name": "stdout",
     "output_type": "stream",
     "text": [
      "Epoch #15: test_reward: -12739.770000 ± 150.972322, best_reward: -2810.960000 ± 374.251932 in #3\n"
     ]
    },
    {
     "name": "stderr",
     "output_type": "stream",
     "text": [
      "Epoch #16: 1001it [00:10, 92.75it/s, env_step=16000, len=1000, loss=120.056, n/ep=0, n/st=10, rew=-2084.18]                          \n"
     ]
    },
    {
     "name": "stdout",
     "output_type": "stream",
     "text": [
      "Epoch #16: test_reward: -2849.810000 ± 260.233862, best_reward: -2810.960000 ± 374.251932 in #3\n"
     ]
    },
    {
     "name": "stderr",
     "output_type": "stream",
     "text": [
      "Epoch #17: 1001it [00:09, 111.12it/s, env_step=17000, len=1000, loss=115.304, n/ep=0, n/st=10, rew=-2084.18]                         \n"
     ]
    },
    {
     "name": "stdout",
     "output_type": "stream",
     "text": [
      "Epoch #17: test_reward: -3002.750000 ± 72.922661, best_reward: -2810.960000 ± 374.251932 in #3\n"
     ]
    },
    {
     "name": "stderr",
     "output_type": "stream",
     "text": [
      "Epoch #18: 1001it [00:08, 118.83it/s, env_step=18000, len=1000, loss=114.134, n/ep=0, n/st=10, rew=-2084.18]                          \n"
     ]
    },
    {
     "name": "stdout",
     "output_type": "stream",
     "text": [
      "Epoch #18: test_reward: -12756.370000 ± 315.103793, best_reward: -2810.960000 ± 374.251932 in #3\n"
     ]
    },
    {
     "name": "stderr",
     "output_type": "stream",
     "text": [
      "Epoch #19: 1001it [00:11, 90.27it/s, env_step=19000, len=1000, loss=106.817, n/ep=0, n/st=10, rew=-2084.18]                           \n"
     ]
    },
    {
     "name": "stdout",
     "output_type": "stream",
     "text": [
      "Epoch #19: test_reward: -10766.970000 ± 3539.879850, best_reward: -2810.960000 ± 374.251932 in #3\n"
     ]
    },
    {
     "name": "stderr",
     "output_type": "stream",
     "text": [
      "Epoch #20: 1001it [00:10, 92.69it/s, env_step=20000, len=1000, loss=100.896, n/ep=0, n/st=10, rew=-2125.10]                          \n"
     ]
    },
    {
     "name": "stdout",
     "output_type": "stream",
     "text": [
      "Epoch #20: test_reward: -11705.300000 ± 3194.149124, best_reward: -2810.960000 ± 374.251932 in #3\n"
     ]
    },
    {
     "name": "stderr",
     "output_type": "stream",
     "text": [
      "Epoch #21: 1001it [00:09, 104.05it/s, env_step=21000, len=1000, loss=112.520, n/ep=0, n/st=10, rew=-2125.10]                          \n"
     ]
    },
    {
     "name": "stdout",
     "output_type": "stream",
     "text": [
      "Epoch #21: test_reward: -2907.550000 ± 294.739761, best_reward: -2810.960000 ± 374.251932 in #3\n"
     ]
    },
    {
     "name": "stderr",
     "output_type": "stream",
     "text": [
      "Epoch #22: 1001it [00:09, 102.43it/s, env_step=22000, len=1000, loss=111.195, n/ep=0, n/st=10, rew=-2125.10]                         \n"
     ]
    },
    {
     "name": "stdout",
     "output_type": "stream",
     "text": [
      "Epoch #22: test_reward: -3067.450000 ± 13.904478, best_reward: -2810.960000 ± 374.251932 in #3\n"
     ]
    },
    {
     "name": "stderr",
     "output_type": "stream",
     "text": [
      "Epoch #23: 1001it [00:10, 98.83it/s, env_step=23000, len=1000, loss=108.758, n/ep=0, n/st=10, rew=-2125.10]                          \n"
     ]
    },
    {
     "name": "stdout",
     "output_type": "stream",
     "text": [
      "Epoch #23: test_reward: -2925.170000 ± 290.167479, best_reward: -2810.960000 ± 374.251932 in #3\n"
     ]
    },
    {
     "name": "stderr",
     "output_type": "stream",
     "text": [
      "Epoch #24: 1001it [00:09, 108.15it/s, env_step=24000, len=1000, loss=107.511, n/ep=0, n/st=10, rew=-2125.10]                          \n"
     ]
    },
    {
     "name": "stdout",
     "output_type": "stream",
     "text": [
      "Epoch #24: test_reward: -2954.690000 ± 267.274407, best_reward: -2810.960000 ± 374.251932 in #3\n"
     ]
    },
    {
     "name": "stderr",
     "output_type": "stream",
     "text": [
      "Epoch #25: 1001it [00:08, 112.28it/s, env_step=25000, len=1000, loss=106.597, n/ep=0, n/st=10, rew=-2230.28]                          \n"
     ]
    },
    {
     "name": "stdout",
     "output_type": "stream",
     "text": [
      "Epoch #25: test_reward: -3004.070000 ± 131.749824, best_reward: -2810.960000 ± 374.251932 in #3\n"
     ]
    },
    {
     "name": "stderr",
     "output_type": "stream",
     "text": [
      "Epoch #26: 1001it [00:08, 111.82it/s, env_step=26000, len=1000, loss=91.303, n/ep=0, n/st=10, rew=-2230.28]                          \n"
     ]
    },
    {
     "name": "stdout",
     "output_type": "stream",
     "text": [
      "Epoch #26: test_reward: -3022.770000 ± 124.248791, best_reward: -2810.960000 ± 374.251932 in #3\n"
     ]
    },
    {
     "name": "stderr",
     "output_type": "stream",
     "text": [
      "Epoch #27: 1001it [00:10, 96.91it/s, env_step=27000, len=1000, loss=95.131, n/ep=0, n/st=10, rew=-2230.28]                           \n"
     ]
    },
    {
     "name": "stdout",
     "output_type": "stream",
     "text": [
      "Epoch #27: test_reward: -3068.150000 ± 4.510488, best_reward: -2810.960000 ± 374.251932 in #3\n"
     ]
    },
    {
     "name": "stderr",
     "output_type": "stream",
     "text": [
      "Epoch #28: 1001it [00:10, 96.04it/s, env_step=28000, len=1000, loss=94.454, n/ep=0, n/st=10, rew=-2230.28]                           \n"
     ]
    }
   ],
   "source": [
    "if args.watch:\n",
    "    watch()\n",
    "    exit(0)\n",
    "\n",
    "# test train_collector and start filling replay buffer\n",
    "train_collector.collect(n_step=args.batch_size * args.training_num)\n",
    "# trainer\n",
    "result = offpolicy_trainer(\n",
    "    policy,\n",
    "    train_collector,\n",
    "    test_collector,\n",
    "    args.epoch,\n",
    "    args.step_per_epoch,\n",
    "    args.step_per_collect,\n",
    "    args.test_num,\n",
    "    args.batch_size,\n",
    "    train_fn=train_fn,\n",
    "    test_fn=test_fn,\n",
    "    stop_fn=stop_fn,\n",
    "    save_best_fn=save_best_fn,\n",
    "    logger=logger,\n",
    "    update_per_step=args.update_per_step,\n",
    "    test_in_train=False,\n",
    "    resume_from_log=args.resume_id is not None,\n",
    "    save_checkpoint_fn=save_checkpoint_fn,\n",
    ")\n",
    "\n",
    "pprint.pprint(result)\n",
    "watch()"
   ]
  }
 ],
 "metadata": {
  "kernelspec": {
   "display_name": "rl_test",
   "language": "python",
   "name": "rl_test"
  },
  "language_info": {
   "codemirror_mode": {
    "name": "ipython",
    "version": 3
   },
   "file_extension": ".py",
   "mimetype": "text/x-python",
   "name": "python",
   "nbconvert_exporter": "python",
   "pygments_lexer": "ipython3",
   "version": "3.9.12"
  },
  "toc": {
   "base_numbering": 1,
   "nav_menu": {},
   "number_sections": true,
   "sideBar": true,
   "skip_h1_title": false,
   "title_cell": "Table of Contents",
   "title_sidebar": "Contents",
   "toc_cell": false,
   "toc_position": {
    "height": "calc(100% - 180px)",
    "left": "10px",
    "top": "150px",
    "width": "227px"
   },
   "toc_section_display": true,
   "toc_window_display": true
  },
  "varInspector": {
   "cols": {
    "lenName": 16,
    "lenType": 16,
    "lenVar": 40
   },
   "kernels_config": {
    "python": {
     "delete_cmd_postfix": "",
     "delete_cmd_prefix": "del ",
     "library": "var_list.py",
     "varRefreshCmd": "print(var_dic_list())"
    },
    "r": {
     "delete_cmd_postfix": ") ",
     "delete_cmd_prefix": "rm(",
     "library": "var_list.r",
     "varRefreshCmd": "cat(var_dic_list()) "
    }
   },
   "types_to_exclude": [
    "module",
    "function",
    "builtin_function_or_method",
    "instance",
    "_Feature"
   ],
   "window_display": false
  }
 },
 "nbformat": 4,
 "nbformat_minor": 5
}
