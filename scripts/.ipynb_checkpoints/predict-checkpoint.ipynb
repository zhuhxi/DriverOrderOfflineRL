{
 "cells": [
  {
   "cell_type": "code",
   "execution_count": 90,
   "id": "df337f4b",
   "metadata": {
    "ExecuteTime": {
     "end_time": "2023-11-22T11:15:23.726645Z",
     "start_time": "2023-11-22T11:15:23.723395Z"
    }
   },
   "outputs": [],
   "source": [
    "import pandas as pd"
   ]
  },
  {
   "cell_type": "code",
   "execution_count": 91,
   "id": "9254cdad",
   "metadata": {
    "ExecuteTime": {
     "end_time": "2023-11-22T11:15:24.761106Z",
     "start_time": "2023-11-22T11:15:24.754949Z"
    }
   },
   "outputs": [],
   "source": [
    "feature = pd.read_csv('all_feature.txt', sep=' ', header=None)\n",
    "feature_name = feature[0].values.tolist()"
   ]
  },
  {
   "cell_type": "code",
   "execution_count": 92,
   "id": "e411ec42",
   "metadata": {
    "ExecuteTime": {
     "end_time": "2023-11-22T11:15:25.829761Z",
     "start_time": "2023-11-22T11:15:25.821773Z"
    }
   },
   "outputs": [
    {
     "data": {
      "text/plain": [
       "{'f_real_order_id': 0,\n",
       " 'waittime': 0,\n",
       " 'nearby_total_driver_num': 0,\n",
       " 'nearby_total_order_num': 0,\n",
       " 'nearby_idle_driver_num': 0,\n",
       " 'nearby_grid_order_num': 0,\n",
       " 'driver_coordstream_driver_nonempty_time_minute_avg_10': 0,\n",
       " 'driver_coordstream_driver_empty_time_minute_avg_5': 0,\n",
       " 'driver_coordstream_driver_online_service_time_minute_avg_10': 0,\n",
       " 'driver_coordstream_driver_empty_time_minute_avg_10': 0,\n",
       " 'driver_engine_order_broadcast_count_minute_avg_10': 0,\n",
       " 'driver_coordstream_driver_nonempty_time_minute_avg_5': 0,\n",
       " 'driver_biz_zhipai_order_broadcast_page_driver_waiting_time_minute_avg_10': 0,\n",
       " 'driver_passenger_wait_time_minute_avg_10': 0,\n",
       " 'dest_coordstream_driver_online_service_time_minute_avg_10': 0,\n",
       " 'driver_coordstream_driver_online_service_time_minute_avg_5': 0,\n",
       " 'dest_coordstream_driver_nonempty_time_minute_avg_10': 0,\n",
       " 'start_engine_order_broadcast_count_minute_avg_10': 0,\n",
       " 'dest_coordstream_driver_empty_time_minute_avg_10': 0,\n",
       " 'dest_passenger_wait_time_minute_avg_10': 0,\n",
       " 'dest_coordstream_driver_nonempty_time_minute_avg_5': 0,\n",
       " 'dest_coordstream_driver_online_service_time_minute_avg_5': 0,\n",
       " 'start_coordstream_driver_online_service_time_minute_avg_10': 0,\n",
       " 'driver_engine_order_broadcast_count_minute_avg_5': 0,\n",
       " 'driver_passenger_wait_time_minute_avg_5': 0,\n",
       " 'driver_passenger_wait_time_minute_sum_10': 0,\n",
       " 'start_coordstream_driver_nonempty_time_minute_avg_10': 0,\n",
       " 'driver_biz_order_finish_minute_rate_10': 0,\n",
       " 'dest_coordstream_driver_empty_time_minute_avg_5': 0,\n",
       " 'start_passenger_wait_time_minute_avg_10': 0,\n",
       " 'start_engine_order_broadcast_count_minute_avg_5': 0,\n",
       " 'start_coordstream_driver_empty_time_minute_avg_10': 0,\n",
       " 'start_coordstream_driver_online_service_time_minute_avg_5': 0,\n",
       " 'dest_biz_zhipai_order_broadcast_page_driver_waiting_time_minute_avg_10': 0,\n",
       " 'dest_engine_order_broadcast_count_minute_avg_10': 0,\n",
       " 'driver_coordstream_driver_empty_minute_uniquecnt_10': 0,\n",
       " 'start_coordstream_driver_nonempty_time_minute_avg_5': 0,\n",
       " 'driver_driver_zhipai_driver_accept_minute_rate_10': 0,\n",
       " 'driver_biz_zhipai_order_broadcast_page_driver_waiting_time_minute_avg_5': 0,\n",
       " 'dest_passenger_wait_time_minute_sum_10': 0,\n",
       " 'driver_passenger_wait_time_minute_sum_5': 0,\n",
       " 'driver_coordstream_driver_empty_minute_uniquecnt_5': 0,\n",
       " 'driver_coordstream_driver_nonempty_minute_uniquecnt_10': 0,\n",
       " 'start_coordstream_driver_empty_minute_uniquecnt_10': 0,\n",
       " 'driver_duse_statistic_canbroatcast_didlistcnt_10': 0,\n",
       " 'start_biz_zhipai_order_broadcast_page_driver_waiting_time_minute_avg_10': 0,\n",
       " 'driver_engine_dispatch_broatcast_cnt_10': 0,\n",
       " 'start_coordstream_driver_empty_time_minute_avg_5': 0,\n",
       " 'driver_biz_order_finish_minute_rate_5': 0,\n",
       " 'dest_passenger_wait_time_minute_avg_5': 0,\n",
       " 'driver_driver_zhipai_driver_accept_minute_rate_5': 0,\n",
       " 'start_passenger_wait_time_minute_sum_10': 0,\n",
       " 'start_passenger_wait_time_minute_avg_5': 0,\n",
       " 'start_coordstream_driver_online_service_minute_uniquecnt_10': 0,\n",
       " 'driver_coordstream_driver_nonempty_minute_uniquecnt_5': 0,\n",
       " 'driver_coordstream_driver_empty_cnt': 0,\n",
       " 'driver_engine_dispatch_broatcast_cnt_5': 0,\n",
       " 'driver_duse_statistic_canbroatcast_didlistcnt_5': 0,\n",
       " 'dest_coordstream_driver_empty_minute_uniquecnt_10': 0,\n",
       " 'driver_coordstream_driver_online_service_minute_uniquecnt_10': 0,\n",
       " 'start_coordstream_driver_nonempty_minute_uniquecnt_10': 0,\n",
       " 'driver_biz_zhipai_order_broadcast_page_driver_waiting_time_minute_sum_10': 0,\n",
       " 'driver_coordstream_driver_didlistcnt_10': 0,\n",
       " 'driver_coordstream_driver_nonempty_didlistcnt_10': 0,\n",
       " 'dest_engine_order_broadcast_count_minute_avg_5': 0,\n",
       " 'driver_coordstream_driver_empty_didlistcnt_10': 0,\n",
       " 'driver_coordstream_driver_inservice_cnt': 0,\n",
       " 'driver_biz_engine_broadcast_driver_minute_didlistcnt_10': 0,\n",
       " 'driver_coordstream_driver_nonempty_cnt': 0,\n",
       " 'driver_biz_driver_cancel_after_accept_minute_rate_10': 0,\n",
       " 'driver_coordstream_driver_didlistcnt_5': 0,\n",
       " 'start_coordstream_driver_didlistcnt_10': 0,\n",
       " 'driver_biz_engine_order_broadcast_minute_rate_10': 0,\n",
       " 'driver_coordstream_driver_online_service_minute_uniquecnt_5': 0,\n",
       " 'start_coordstream_driver_online_service_minute_uniquecnt_5': 0,\n",
       " 'driver_duse_statistic_canbroatcast_didlistcnt_2': 0,\n",
       " 'driver_coordstream_driver_empty_didlistcnt_5': 0,\n",
       " 'start_engine_dispatch_broatcast_cnt_10': 0,\n",
       " 'driver_coordstream_driver_empty_minute_uniquecnt': 0,\n",
       " 'driver_coordstream_driver_nonempty_didlistcnt_5': 0,\n",
       " 'start_coordstream_driver_empty_minute_uniquecnt_5': 0,\n",
       " 'dest_coordstream_driver_nonempty_minute_uniquecnt_10': 0,\n",
       " 'start_coordstream_driver_nonempty_minute_uniquecnt_5': 0,\n",
       " 'driver_biz_order_finish_minute_cnt_10': 0,\n",
       " 'start_engine_dispatch_broatcast_cnt_5': 0,\n",
       " 'driver_biz_engine_order_broadcast_minute_rate_5': 0,\n",
       " 'driver_biz_engine_broadcast_driver_minute_didlistcnt_5': 0,\n",
       " 'start_duse_statistic_canbroatcast_didlistcnt_10': 0,\n",
       " 'dest_biz_zhipai_order_broadcast_page_driver_waiting_time_minute_avg_5': 0,\n",
       " 'driver_coordstream_driver_nonempty_minute_uniquecnt': 0,\n",
       " 'driver_biz_passengerid_order_finish_minute_pidlistcnt_10': 0,\n",
       " 'start_biz_zhipai_order_broadcast_page_driver_waiting_time_minute_avg_5': 0,\n",
       " 'driver_biz_passengerid_finish_waiting_state_minute_pidlistcnt_10': 0,\n",
       " 'driver_biz_orderid_exist_minute_oidlistcnt_10': 0,\n",
       " 'driver_driver_strive_zhipai_order_minute_cnt_5': 0,\n",
       " 'driver_biz_orderid_exist_minute_oidlistcnt_5': 0,\n",
       " 'driver_biz_passenger_requirement_minute_pidlistcnt_10': 0,\n",
       " 'driver_biz_passengerid_driver_cancel_order_after_strive_minute_pidlistcnt_10': 0,\n",
       " 'driver_biz_zhipai_order_broadcast_page_driver_waiting_time_minute_avg': 0,\n",
       " 'driver_biz_passengerid_driver_cancel_order_after_strive_minute_pidlistcnt_5': 0,\n",
       " 'driver_driver_strive_zhipai_order_minute_cnt': 0,\n",
       " 'start_driver_strive_zhipai_order_minute_cnt_10': 0,\n",
       " 'asdest_driver_strive_zhipai_order_minute_cnt_10': 0,\n",
       " 'start_biz_zhipai_order_broadcast_page_driver_waiting_time_minute_avg': 0,\n",
       " 'start_driver_strive_zhipai_order_minute_cnt_5': 0,\n",
       " 'dest_biz_zhipai_order_broadcast_page_driver_waiting_time_minute_avg': 0,\n",
       " 'dest_driver_strive_zhipai_order_minute_cnt_5': 0,\n",
       " 'start_driver_strive_zhipai_order_minute_cnt': 0,\n",
       " 'dest_driver_strive_zhipai_order_minute_cnt': 0}"
      ]
     },
     "execution_count": 92,
     "metadata": {},
     "output_type": "execute_result"
    }
   ],
   "source": [
    "feature_dict = {}\n",
    "for name in feature_name:\n",
    "    feature_dict[name] = 0\n",
    "feature_dict"
   ]
  },
  {
   "cell_type": "code",
   "execution_count": 121,
   "id": "7adf2272",
   "metadata": {
    "ExecuteTime": {
     "end_time": "2023-11-22T11:21:25.132807Z",
     "start_time": "2023-11-22T11:21:25.128701Z"
    }
   },
   "outputs": [],
   "source": [
    "feature_dict['waittime'] = 0.2\n",
    "feature_dict['nearby_total_driver_num'] = 1\n",
    "feature_dict['nearby_idle_driver_num'] = 1\n",
    "feature_dict['nearby_grid_order_num'] = 1\n",
    "feature_dict['nearby_total_order_num'] = 1"
   ]
  },
  {
   "cell_type": "code",
   "execution_count": 122,
   "id": "7309c874",
   "metadata": {
    "ExecuteTime": {
     "end_time": "2023-11-22T11:21:25.580943Z",
     "start_time": "2023-11-22T11:21:25.552209Z"
    }
   },
   "outputs": [
    {
     "name": "stdout",
     "output_type": "stream",
     "text": [
      "{\"prediction\": 4}\n"
     ]
    },
    {
     "name": "stderr",
     "output_type": "stream",
     "text": [
      "  % Total    % Received % Xferd  Average Speed   Time    Time     Time  Current\n",
      "                                 Dload  Upload   Total   Spent    Left  Speed\n",
      "\r",
      "  0     0    0     0    0     0      0      0 --:--:-- --:--:-- --:--:--     0\r",
      "100  6044  100    17  100  6027   2428   840k --:--:-- --:--:-- --:--:--  843k\n"
     ]
    }
   ],
   "source": [
    "import subprocess\n",
    "\n",
    "feature_str = str(feature_dict).replace(\"'\", '\"')\n",
    "command = \"curl -X POST -H 'Content-Type: application/json' -d '\"+ feature_str + \"' http://localhost:5000/predict\"\n",
    "\n",
    "# 执行命令并获取输出\n",
    "output = subprocess.check_output(command, shell=True)\n",
    "print(output.decode())"
   ]
  },
  {
   "cell_type": "code",
   "execution_count": null,
   "id": "eddba63a",
   "metadata": {},
   "outputs": [],
   "source": []
  }
 ],
 "metadata": {
  "kernelspec": {
   "display_name": "rl_test",
   "language": "python",
   "name": "rl_test"
  },
  "language_info": {
   "codemirror_mode": {
    "name": "ipython",
    "version": 3
   },
   "file_extension": ".py",
   "mimetype": "text/x-python",
   "name": "python",
   "nbconvert_exporter": "python",
   "pygments_lexer": "ipython3",
   "version": "3.9.12"
  },
  "toc": {
   "base_numbering": 1,
   "nav_menu": {},
   "number_sections": true,
   "sideBar": true,
   "skip_h1_title": false,
   "title_cell": "Table of Contents",
   "title_sidebar": "Contents",
   "toc_cell": false,
   "toc_position": {},
   "toc_section_display": true,
   "toc_window_display": false
  },
  "varInspector": {
   "cols": {
    "lenName": 16,
    "lenType": 16,
    "lenVar": 40
   },
   "kernels_config": {
    "python": {
     "delete_cmd_postfix": "",
     "delete_cmd_prefix": "del ",
     "library": "var_list.py",
     "varRefreshCmd": "print(var_dic_list())"
    },
    "r": {
     "delete_cmd_postfix": ") ",
     "delete_cmd_prefix": "rm(",
     "library": "var_list.r",
     "varRefreshCmd": "cat(var_dic_list()) "
    }
   },
   "types_to_exclude": [
    "module",
    "function",
    "builtin_function_or_method",
    "instance",
    "_Feature"
   ],
   "window_display": false
  }
 },
 "nbformat": 4,
 "nbformat_minor": 5
}
