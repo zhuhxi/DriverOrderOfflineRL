{
 "cells": [
  {
   "cell_type": "code",
   "execution_count": 182,
   "id": "7507f542",
   "metadata": {
    "ExecuteTime": {
     "end_time": "2023-11-13T05:11:17.681883Z",
     "start_time": "2023-11-13T05:11:17.677834Z"
    }
   },
   "outputs": [],
   "source": [
    "import sys\n",
    "sys.path.append('/tmp-data/zhx/DriverOrderOfflineRL/cage-challenge-1/CybORG')\n",
    "sys.path.append('/tmp-data/zhx/DriverOrderOfflineRL/tianshou')"
   ]
  },
  {
   "cell_type": "markdown",
   "id": "63d5ee21",
   "metadata": {},
   "source": [
    "### args define"
   ]
  },
  {
   "cell_type": "code",
   "execution_count": 183,
   "id": "c9791554",
   "metadata": {
    "ExecuteTime": {
     "end_time": "2023-11-13T05:11:18.017953Z",
     "start_time": "2023-11-13T05:11:18.000578Z"
    },
    "code_folding": [
     20
    ]
   },
   "outputs": [],
   "source": [
    "import argparse\n",
    "import datetime\n",
    "import os\n",
    "import pprint\n",
    "\n",
    "import numpy as np\n",
    "import torch\n",
    "from torch.utils.tensorboard import SummaryWriter\n",
    "from torch import nn\n",
    "\n",
    "from tianshou.data import Collector, VectorReplayBuffer\n",
    "from tianshou.policy import DQNPolicy\n",
    "from tianshou.policy.modelbased.icm import ICMPolicy\n",
    "from tianshou.trainer import offpolicy_trainer\n",
    "from tianshou.utils import TensorboardLogger, WandbLogger\n",
    "from tianshou.utils.net.discrete import IntrinsicCuriosityModule\n",
    "from tianshou.env import SubprocVectorEnv\n",
    "\n",
    "from typing import Any, Dict, Optional, Sequence, Tuple, Union\n",
    "\n",
    "\n",
    "def get_args():\n",
    "    parser = argparse.ArgumentParser()\n",
    "    parser.add_argument(\"--task\", type=str, default=\"cyborg\")\n",
    "    parser.add_argument(\"--seed\", type=int, default=0)\n",
    "    parser.add_argument(\"--scale-obs\", type=int, default=0)\n",
    "    parser.add_argument(\"--eps-test\", type=float, default=0.005)\n",
    "    parser.add_argument(\"--eps-train\", type=float, default=1.)\n",
    "    parser.add_argument(\"--eps-train-final\", type=float, default=0.05)\n",
    "    parser.add_argument(\"--buffer-size\", type=int, default=100000)\n",
    "    parser.add_argument(\"--lr\", type=float, default=0.0001)\n",
    "    parser.add_argument(\"--gamma\", type=float, default=0.99)\n",
    "    parser.add_argument(\"--n-step\", type=int, default=3)\n",
    "    parser.add_argument(\"--target-update-freq\", type=int, default=500)\n",
    "    parser.add_argument(\"--epoch\", type=int, default=100)\n",
    "    parser.add_argument(\"--step-per-epoch\", type=int, default=1000)\n",
    "    parser.add_argument(\"--step-per-collect\", type=int, default=10)\n",
    "    parser.add_argument(\"--update-per-step\", type=float, default=0.1)\n",
    "    parser.add_argument(\"--batch-size\", type=int, default=64)\n",
    "    parser.add_argument(\"--training-num\", type=int, default=10)\n",
    "    parser.add_argument(\"--test-num\", type=int, default=10)\n",
    "    parser.add_argument(\"--logdir\", type=str, default=\"log\")\n",
    "    parser.add_argument(\"--render\", type=float, default=0.)\n",
    "    parser.add_argument(\n",
    "        \"--device\", type=str, default=\"cuda\" if torch.cuda.is_available() else \"cpu\"\n",
    "    )\n",
    "    parser.add_argument(\"--frames-stack\", type=int, default=1)\n",
    "    parser.add_argument(\"--resume-path\", type=str, default=None)\n",
    "    parser.add_argument(\"--resume-id\", type=str, default=None)\n",
    "    parser.add_argument(\n",
    "        \"--logger\",\n",
    "        type=str,\n",
    "        default=\"wandb\",\n",
    "        choices=[\"tensorboard\", \"wandb\"],\n",
    "    )\n",
    "    parser.add_argument(\"--wandb-project\", type=str, default=\"cyborg.dqn\")\n",
    "    parser.add_argument(\n",
    "        \"--watch\",\n",
    "        default=False,\n",
    "        action=\"store_true\",\n",
    "        help=\"watch the play of pre-trained policy only\"\n",
    "    )\n",
    "    parser.add_argument(\"--save-buffer-name\", type=str, default=None)\n",
    "    parser.add_argument(\n",
    "        \"--icm-lr-scale\",\n",
    "        type=float,\n",
    "        default=0.,\n",
    "        help=\"use intrinsic curiosity module with this lr scale\"\n",
    "    )\n",
    "    parser.add_argument(\n",
    "        \"--icm-reward-scale\",\n",
    "        type=float,\n",
    "        default=0.01,\n",
    "        help=\"scaling factor for intrinsic curiosity reward\"\n",
    "    )\n",
    "    parser.add_argument(\n",
    "        \"--icm-forward-loss-weight\",\n",
    "        type=float,\n",
    "        default=0.2,\n",
    "        help=\"weight for the forward model loss in ICM\"\n",
    "    )\n",
    "    return parser.parse_args(args=[])\n"
   ]
  },
  {
   "cell_type": "markdown",
   "id": "f3279033",
   "metadata": {},
   "source": [
    "### env"
   ]
  },
  {
   "cell_type": "code",
   "execution_count": 184,
   "id": "75429fb1",
   "metadata": {
    "ExecuteTime": {
     "end_time": "2023-11-13T05:11:18.324802Z",
     "start_time": "2023-11-13T05:11:18.319126Z"
    }
   },
   "outputs": [],
   "source": [
    "args = get_args()"
   ]
  },
  {
   "cell_type": "code",
   "execution_count": 185,
   "id": "10f52551",
   "metadata": {
    "ExecuteTime": {
     "end_time": "2023-11-13T05:11:19.981904Z",
     "start_time": "2023-11-13T05:11:18.705205Z"
    }
   },
   "outputs": [],
   "source": [
    "import inspect\n",
    "from pprint import pprint\n",
    "from CybORG import CybORG\n",
    "from CybORG.Shared.Actions import *\n",
    "from CybORG.Agents import RedMeanderAgent, B_lineAgent\n",
    "from CybORG.Agents.Wrappers import *\n",
    "\n",
    "path = str(inspect.getfile(CybORG))\n",
    "path = path[:-10] + '/Shared/Scenarios/Scenario1b.yaml'\n",
    "\n",
    "# seed\n",
    "np.random.seed(args.seed)\n",
    "torch.manual_seed(args.seed)\n",
    "\n",
    "# env\n",
    "CYBORG = CybORG(path,'sim', agents={'Red': B_lineAgent})\n",
    "env = ChallengeWrapper(env=CYBORG, agent_name=\"Blue\", max_steps=args.step_per_epoch)\n",
    "train_envs = SubprocVectorEnv([lambda: ChallengeWrapper(env=CYBORG, agent_name=\"Blue\", max_steps=args.step_per_epoch) for _ in range(5)])\n",
    "test_envs = SubprocVectorEnv([lambda: ChallengeWrapper(env=CYBORG, agent_name=\"Blue\", max_steps=args.step_per_epoch) for _ in range(5)])"
   ]
  },
  {
   "cell_type": "code",
   "execution_count": 186,
   "id": "b76bbea5",
   "metadata": {
    "ExecuteTime": {
     "end_time": "2023-11-13T05:11:20.005662Z",
     "start_time": "2023-11-13T05:11:19.998764Z"
    }
   },
   "outputs": [
    {
     "name": "stdout",
     "output_type": "stream",
     "text": [
      "Observations shape: (52,)\n",
      "Actions shape: 54\n"
     ]
    }
   ],
   "source": [
    "args.state_shape = env.observation_space.shape or env.observation_space.n\n",
    "args.action_shape = env.action_space.shape or env.action_space.n\n",
    "print(\"Observations shape:\", args.state_shape)\n",
    "print(\"Actions shape:\", args.action_shape)"
   ]
  },
  {
   "cell_type": "markdown",
   "id": "8bdd4a74",
   "metadata": {},
   "source": [
    "### network"
   ]
  },
  {
   "cell_type": "code",
   "execution_count": 187,
   "id": "0186ad5d",
   "metadata": {
    "ExecuteTime": {
     "end_time": "2023-11-13T05:11:20.027019Z",
     "start_time": "2023-11-13T05:11:20.017562Z"
    }
   },
   "outputs": [],
   "source": [
    "class D5QN(nn.Module):\n",
    "    \"\"\"Reference: Human-level control through deep reinforcement learning.\n",
    "\n",
    "    For advanced usage (how to customize the network), please refer to\n",
    "    :ref:`build_the_network`.\n",
    "    \"\"\"\n",
    "\n",
    "    def __init__(\n",
    "        self,\n",
    "        state_shape: Sequence[int],\n",
    "        action_shape: Sequence[int],\n",
    "        device: Union[str, int, torch.device] = \"cpu\",\n",
    "        features_only: bool = False,\n",
    "        output_dim: Optional[int] = None,\n",
    "    ) -> None:\n",
    "        super().__init__()\n",
    "        self.device = device\n",
    "        self.net = nn.Sequential(\n",
    "            nn.Linear(state_shape, 512), nn.ReLU(inplace=True),\n",
    "            nn.Linear(512, action_shape), nn.ReLU(inplace=True)\n",
    "        )\n",
    "#         with torch.no_grad():\n",
    "#             self.output_dim = np.prod(self.net(torch.zeros(1, state_shape)).shape[1:])\n",
    "#         if not features_only:\n",
    "#             self.net = nn.Sequential(\n",
    "#                 self.net, nn.Linear(self.output_dim, 512), nn.ReLU(inplace=True),\n",
    "#                 nn.Linear(512, np.prod(action_shape))\n",
    "#             )\n",
    "#             self.output_dim = np.prod(action_shape)\n",
    "#         elif output_dim is not None:\n",
    "#             self.net = nn.Sequential(\n",
    "#                 self.net, nn.Linear(self.output_dim, output_dim),\n",
    "#                 nn.ReLU(inplace=True)\n",
    "#             )\n",
    "#             self.output_dim = output_dim\n",
    "\n",
    "    def forward(\n",
    "        self,\n",
    "        obs: Union[np.ndarray, torch.Tensor],\n",
    "        state: Optional[Any] = None,\n",
    "        info: Dict[str, Any] = {},\n",
    "    ) -> Tuple[torch.Tensor, Any]:\n",
    "        r\"\"\"Mapping: s -> Q(s, \\*).\"\"\"\n",
    "        obs = torch.as_tensor(obs, device=self.device, dtype=torch.float32)\n",
    "        return self.net(obs), state"
   ]
  },
  {
   "cell_type": "markdown",
   "id": "382f95ab",
   "metadata": {},
   "source": [
    "### define policy"
   ]
  },
  {
   "cell_type": "code",
   "execution_count": 188,
   "id": "a235fd7a",
   "metadata": {
    "ExecuteTime": {
     "end_time": "2023-11-13T05:11:20.049590Z",
     "start_time": "2023-11-13T05:11:20.039777Z"
    },
    "code_folding": []
   },
   "outputs": [],
   "source": [
    "# define model\n",
    "net = D5QN(args.state_shape[0], args.action_shape, args.device).to(args.device)\n",
    "optim = torch.optim.Adam(net.parameters(), lr=args.lr)\n",
    "# define policy\n",
    "policy = DQNPolicy(\n",
    "    net,\n",
    "    optim,\n",
    "    args.gamma,\n",
    "    args.n_step,\n",
    "    target_update_freq=args.target_update_freq\n",
    ")"
   ]
  },
  {
   "cell_type": "code",
   "execution_count": 189,
   "id": "80961bd6",
   "metadata": {
    "ExecuteTime": {
     "end_time": "2023-11-13T05:11:20.492019Z",
     "start_time": "2023-11-13T05:11:20.485705Z"
    }
   },
   "outputs": [],
   "source": [
    "if args.icm_lr_scale > 0:\n",
    "    feature_net = DQN(\n",
    "        args.state_shape[0], args.action_shape, args.device, features_only=True\n",
    "    )\n",
    "    action_dim = np.prod(args.action_shape)\n",
    "    feature_dim = feature_net.output_dim\n",
    "    icm_net = IntrinsicCuriosityModule(\n",
    "        feature_net.net,\n",
    "        feature_dim,\n",
    "        action_dim,\n",
    "        hidden_sizes=[512],\n",
    "        device=args.device\n",
    "    )\n",
    "    icm_optim = torch.optim.Adam(icm_net.parameters(), lr=args.lr)\n",
    "    policy = ICMPolicy(\n",
    "        policy, icm_net, icm_optim, args.icm_lr_scale, args.icm_reward_scale,\n",
    "        args.icm_forward_loss_weight\n",
    "    ).to(args.device)"
   ]
  },
  {
   "cell_type": "markdown",
   "id": "b6dd7508",
   "metadata": {},
   "source": [
    "### load policy"
   ]
  },
  {
   "cell_type": "code",
   "execution_count": 190,
   "id": "36eb9daf",
   "metadata": {
    "ExecuteTime": {
     "end_time": "2023-11-13T05:11:21.079145Z",
     "start_time": "2023-11-13T05:11:21.074730Z"
    }
   },
   "outputs": [],
   "source": [
    "# load a previous policy\n",
    "if args.resume_path:\n",
    "    policy.load_state_dict(torch.load(args.resume_path, map_location=args.device))\n",
    "    print(\"Loaded agent from: \", args.resume_path)"
   ]
  },
  {
   "cell_type": "markdown",
   "id": "3d6db66d",
   "metadata": {},
   "source": [
    "### replay buffer"
   ]
  },
  {
   "cell_type": "code",
   "execution_count": 191,
   "id": "9cf1cf21",
   "metadata": {
    "ExecuteTime": {
     "end_time": "2023-11-13T05:11:21.781611Z",
     "start_time": "2023-11-13T05:11:21.774713Z"
    }
   },
   "outputs": [],
   "source": [
    "# replay buffer: `save_last_obs` and `stack_num` can be removed together\n",
    "# when you have enough RAM\n",
    "buffer = VectorReplayBuffer(\n",
    "    args.buffer_size,\n",
    "    buffer_num=len(train_envs),\n",
    "    ignore_obs_next=True,\n",
    "    save_only_last_obs=False,\n",
    "    stack_num=args.frames_stack\n",
    ")"
   ]
  },
  {
   "cell_type": "markdown",
   "id": "d9a02488",
   "metadata": {},
   "source": [
    "### collector"
   ]
  },
  {
   "cell_type": "code",
   "execution_count": 192,
   "id": "9a1a7dd6",
   "metadata": {
    "ExecuteTime": {
     "end_time": "2023-11-13T05:11:22.499389Z",
     "start_time": "2023-11-13T05:11:22.396714Z"
    }
   },
   "outputs": [],
   "source": [
    "# collector\n",
    "train_collector = Collector(policy, train_envs, buffer, exploration_noise=True)\n",
    "test_collector = Collector(policy, test_envs, exploration_noise=True)"
   ]
  },
  {
   "cell_type": "markdown",
   "id": "5300f5e8",
   "metadata": {},
   "source": [
    "### log"
   ]
  },
  {
   "cell_type": "code",
   "execution_count": 193,
   "id": "dcf359c5",
   "metadata": {
    "ExecuteTime": {
     "end_time": "2023-11-13T05:11:23.110439Z",
     "start_time": "2023-11-13T05:11:23.105249Z"
    }
   },
   "outputs": [],
   "source": [
    "# log\n",
    "now = datetime.datetime.now().strftime(\"%y%m%d-%H%M%S\")\n",
    "args.algo_name = \"dqn_icm\" if args.icm_lr_scale > 0 else \"dqn\"\n",
    "log_name = os.path.join(args.task, args.algo_name, str(args.seed), now)\n",
    "log_path = os.path.join(args.logdir, log_name)"
   ]
  },
  {
   "cell_type": "code",
   "execution_count": 194,
   "id": "6e5f51e9",
   "metadata": {
    "ExecuteTime": {
     "end_time": "2023-11-13T05:11:23.835619Z",
     "start_time": "2023-11-13T05:11:23.824424Z"
    }
   },
   "outputs": [
    {
     "name": "stderr",
     "output_type": "stream",
     "text": [
      "\u001b[34m\u001b[1mwandb\u001b[0m: \u001b[33mWARNING\u001b[0m When using several event log directories, please call `wandb.tensorboard.patch(root_logdir=\"...\")` before `wandb.init`\n"
     ]
    }
   ],
   "source": [
    "# logger\n",
    "if args.logger == \"wandb\":\n",
    "    logger = WandbLogger(\n",
    "        save_interval=1,\n",
    "        name=log_name.replace(os.path.sep, \"__\"),\n",
    "        run_id=args.resume_id,\n",
    "        config=args,\n",
    "        project=args.wandb_project,\n",
    "    )\n",
    "writer = SummaryWriter(log_path)\n",
    "writer.add_text(\"args\", str(args))\n",
    "if args.logger == \"tensorboard\":\n",
    "    logger = TensorboardLogger(writer)\n",
    "else:  # wandb\n",
    "    logger.load(writer)"
   ]
  },
  {
   "cell_type": "markdown",
   "id": "34c70cb2",
   "metadata": {},
   "source": [
    "### train helper funciton"
   ]
  },
  {
   "cell_type": "code",
   "execution_count": 195,
   "id": "4ec7a609",
   "metadata": {
    "ExecuteTime": {
     "end_time": "2023-11-13T05:11:29.584601Z",
     "start_time": "2023-11-13T05:11:29.572648Z"
    },
    "code_folding": [
     0,
     3,
     6,
     17,
     20,
     27
    ]
   },
   "outputs": [],
   "source": [
    "def save_best_fn(policy):\n",
    "    torch.save(policy.state_dict(), os.path.join(log_path, \"policy.pth\"))\n",
    "\n",
    "def stop_fn(mean_rewards):\n",
    "    return mean_rewards >= 20\n",
    "\n",
    "def train_fn(epoch, env_step):\n",
    "    # nature DQN setting, linear decay in the first 1M steps\n",
    "    if env_step <= 1e6:\n",
    "        eps = args.eps_train - env_step / 1e6 * \\\n",
    "            (args.eps_train - args.eps_train_final)\n",
    "    else:\n",
    "        eps = args.eps_train_final\n",
    "    policy.set_eps(eps)\n",
    "    if env_step % 1000 == 0:\n",
    "        logger.write(\"train/env_step\", env_step, {\"train/eps\": eps})\n",
    "\n",
    "def test_fn(epoch, env_step):\n",
    "    policy.set_eps(args.eps_test)\n",
    "\n",
    "def save_checkpoint_fn(epoch, env_step, gradient_step):\n",
    "    # see also: https://pytorch.org/tutorials/beginner/saving_loading_models.html\n",
    "    ckpt_path = os.path.join(log_path, \"checkpoint.pth\")\n",
    "    torch.save({\"model\": policy.state_dict()}, ckpt_path)\n",
    "    return ckpt_path\n",
    "\n",
    "# watch agent's performance\n",
    "def watch():\n",
    "    print(\"Setup test envs ...\")\n",
    "    policy.eval()\n",
    "    policy.set_eps(args.eps_test)\n",
    "    test_envs.seed(args.seed)\n",
    "    if args.save_buffer_name:\n",
    "        print(f\"Generate buffer with size {args.buffer_size}\")\n",
    "        buffer = VectorReplayBuffer(\n",
    "            args.buffer_size,\n",
    "            buffer_num=len(test_envs),\n",
    "            ignore_obs_next=True,\n",
    "            save_only_last_obs=True,\n",
    "            stack_num=args.frames_stack\n",
    "        )\n",
    "        collector = Collector(policy, test_envs, buffer, exploration_noise=True)\n",
    "        result = collector.collect(n_step=args.buffer_size)\n",
    "        print(f\"Save buffer into {args.save_buffer_name}\")\n",
    "        # Unfortunately, pickle will cause oom with 1M buffer size\n",
    "        buffer.save_hdf5(args.save_buffer_name)\n",
    "    else:\n",
    "        print(\"Testing agent ...\")\n",
    "        test_collector.reset()\n",
    "        result = test_collector.collect(\n",
    "            n_episode=args.test_num, render=args.render\n",
    "        )\n",
    "    rew = result[\"rews\"].mean()\n",
    "    print(f\"Mean reward (over {result['n/ep']} episodes): {rew}\")"
   ]
  },
  {
   "cell_type": "code",
   "execution_count": 196,
   "id": "5fbcde75",
   "metadata": {
    "ExecuteTime": {
     "end_time": "2023-11-13T05:11:30.023204Z",
     "start_time": "2023-11-13T05:11:30.018739Z"
    }
   },
   "outputs": [],
   "source": [
    "### train core"
   ]
  },
  {
   "cell_type": "code",
   "execution_count": null,
   "id": "f21444cc",
   "metadata": {
    "ExecuteTime": {
     "start_time": "2023-11-13T05:11:29.912Z"
    },
    "code_folding": []
   },
   "outputs": [],
   "source": [
    "if args.watch:\n",
    "    watch()\n",
    "    exit(0)\n",
    "\n",
    "# test train_collector and start filling replay buffer\n",
    "train_collector.collect(n_step=args.batch_size * args.training_num)\n",
    "# trainer\n",
    "result = offpolicy_trainer(\n",
    "    policy,\n",
    "    train_collector,\n",
    "    test_collector,\n",
    "    args.epoch,\n",
    "    args.step_per_epoch,\n",
    "    args.step_per_collect,\n",
    "    args.test_num,\n",
    "    args.batch_size,\n",
    "    train_fn=train_fn,\n",
    "    test_fn=test_fn,\n",
    "    stop_fn=stop_fn,\n",
    "    save_best_fn=save_best_fn,\n",
    "    logger=logger,\n",
    "    update_per_step=args.update_per_step,\n",
    "    test_in_train=False,\n",
    "    resume_from_log=args.resume_id is not None,\n",
    "    save_checkpoint_fn=save_checkpoint_fn,\n",
    ")\n",
    "\n",
    "pprint.pprint(result)\n",
    "watch()"
   ]
  }
 ],
 "metadata": {
  "kernelspec": {
   "display_name": "rl_test",
   "language": "python",
   "name": "rl_test"
  },
  "language_info": {
   "codemirror_mode": {
    "name": "ipython",
    "version": 3
   },
   "file_extension": ".py",
   "mimetype": "text/x-python",
   "name": "python",
   "nbconvert_exporter": "python",
   "pygments_lexer": "ipython3",
   "version": "3.9.12"
  },
  "toc": {
   "base_numbering": 1,
   "nav_menu": {},
   "number_sections": true,
   "sideBar": true,
   "skip_h1_title": false,
   "title_cell": "Table of Contents",
   "title_sidebar": "Contents",
   "toc_cell": false,
   "toc_position": {
    "height": "calc(100% - 180px)",
    "left": "10px",
    "top": "150px",
    "width": "227px"
   },
   "toc_section_display": true,
   "toc_window_display": true
  },
  "varInspector": {
   "cols": {
    "lenName": 16,
    "lenType": 16,
    "lenVar": 40
   },
   "kernels_config": {
    "python": {
     "delete_cmd_postfix": "",
     "delete_cmd_prefix": "del ",
     "library": "var_list.py",
     "varRefreshCmd": "print(var_dic_list())"
    },
    "r": {
     "delete_cmd_postfix": ") ",
     "delete_cmd_prefix": "rm(",
     "library": "var_list.r",
     "varRefreshCmd": "cat(var_dic_list()) "
    }
   },
   "types_to_exclude": [
    "module",
    "function",
    "builtin_function_or_method",
    "instance",
    "_Feature"
   ],
   "window_display": false
  }
 },
 "nbformat": 4,
 "nbformat_minor": 5
}
