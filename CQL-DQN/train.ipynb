{
 "cells": [
  {
   "cell_type": "code",
   "execution_count": 1,
   "id": "66b66457",
   "metadata": {
    "ExecuteTime": {
     "end_time": "2023-10-19T09:17:47.676127Z",
     "start_time": "2023-10-19T09:17:44.820079Z"
    }
   },
   "outputs": [
    {
     "name": "stderr",
     "output_type": "stream",
     "text": [
      "usage: ipykernel_launcher.py [-h] [--run_name RUN_NAME] [--env ENV]\n",
      "                             [--episodes EPISODES] [--buffer_size BUFFER_SIZE]\n",
      "                             [--seed SEED] [--min_eps MIN_EPS]\n",
      "                             [--eps_frames EPS_FRAMES] [--log_video LOG_VIDEO]\n",
      "                             [--save_every SAVE_EVERY]\n",
      "ipykernel_launcher.py: error: unrecognized arguments: -f /home/luban/.local/share/jupyter/runtime/kernel-c3b56d14-fd1e-47c1-bc43-f1fb2b0c6e1e.json\n"
     ]
    },
    {
     "ename": "SystemExit",
     "evalue": "2",
     "output_type": "error",
     "traceback": [
      "An exception has occurred, use %tb to see the full traceback.\n",
      "\u001b[0;31mSystemExit\u001b[0m\u001b[0;31m:\u001b[0m 2\n"
     ]
    },
    {
     "name": "stderr",
     "output_type": "stream",
     "text": [
      "/tmp-data/conda/anaconda3/envs/dqn/lib/python3.9/site-packages/IPython/core/interactiveshell.py:3534: UserWarning: To exit: use 'exit', 'quit', or Ctrl-D.\n",
      "  warn(\"To exit: use 'exit', 'quit', or Ctrl-D.\", stacklevel=1)\n"
     ]
    }
   ],
   "source": [
    "import gym\n",
    "# import pybullet_envs\n",
    "import numpy as np\n",
    "from collections import deque\n",
    "import torch\n",
    "import wandb\n",
    "import argparse\n",
    "from buffer import ReplayBuffer\n",
    "import glob\n",
    "from utils import save, collect_random\n",
    "import random\n",
    "from agent import CQLAgent\n",
    "\n",
    "def get_config():\n",
    "    parser = argparse.ArgumentParser(description='RL')\n",
    "    parser.add_argument(\"--run_name\", type=str, default=\"CQL-DQN-withoutOnline\", help=\"Run name, default: CQL-DQN\")\n",
    "    parser.add_argument(\"--env\", type=str, default=\"CartPole-v0\", help=\"Gym environment name, default: CartPole-v0\")\n",
    "    parser.add_argument(\"--episodes\", type=int, default=400, help=\"Number of episodes, default: 200\")\n",
    "    parser.add_argument(\"--buffer_size\", type=int, default=100_000, help=\"Maximal training dataset size, default: 100_000\")\n",
    "    parser.add_argument(\"--seed\", type=int, default=1, help=\"Seed, default: 1\")\n",
    "    parser.add_argument(\"--min_eps\", type=float, default=0.01, help=\"Minimal Epsilon, default: 4\")\n",
    "    parser.add_argument(\"--eps_frames\", type=int, default=1e4, help=\"Number of steps for annealing the epsilon value to the min epsilon, default: 1e5\")\n",
    "    parser.add_argument(\"--log_video\", type=int, default=0, help=\"Log agent behaviour to wanbd when set to 1, default: 0\")\n",
    "    parser.add_argument(\"--save_every\", type=int, default=100, help=\"Saves the network every x epochs, default: 25\")\n",
    "    \n",
    "    args = parser.parse_args()\n",
    "    return args\n",
    "\n",
    "def train(config):\n",
    "    np.random.seed(config.seed)\n",
    "    random.seed(config.seed)\n",
    "    torch.manual_seed(config.seed)\n",
    "    env = gym.make(config.env)\n",
    "    \n",
    "    env.seed(config.seed)\n",
    "\n",
    "    device = torch.device(\"cuda:0\" if torch.cuda.is_available() else \"cpu\")\n",
    "    \n",
    "    eps = 1.\n",
    "    d_eps = 1 - config.min_eps\n",
    "    steps = 0\n",
    "    average10 = deque(maxlen=10)\n",
    "    total_steps = 0\n",
    "    \n",
    "    with wandb.init(project=\"CQL\", name=config.run_name, config=config):\n",
    "        \n",
    "        agent = CQLAgent(state_size=env.observation_space.shape,\n",
    "                         action_size=env.action_space.n,\n",
    "                         device=device)\n",
    "\n",
    "        wandb.watch(agent.network, log=\"gradients\", log_freq=10)\n",
    "\n",
    "        buffer = ReplayBuffer(buffer_size=config.buffer_size, batch_size=32, device=device)\n",
    "        \n",
    "        collect_random(env=env, dataset=buffer, num_samples=10000)\n",
    "        \n",
    "        if config.log_video:\n",
    "            env = gym.wrappers.Monitor(env, './video', video_callable=lambda x: x%10==0, force=True)\n",
    "\n",
    "        for i in range(1, config.episodes+1):\n",
    "            state = env.reset()\n",
    "            episode_steps = 0\n",
    "            rewards = 0\n",
    "            while True:\n",
    "#                 action = agent.get_action(state, epsilon=eps)\n",
    "                steps += 1\n",
    "#                 next_state, reward, done, _ = env.step(action[0])\n",
    "#                 buffer.add(state, action, reward, next_state, done)\n",
    "                loss, cql_loss, bellmann_error = agent.learn(buffer.sample())\n",
    "#                 state = next_state\n",
    "#                 rewards += reward\n",
    "                episode_steps += 1\n",
    "                eps = max(1 - ((steps*d_eps)/config.eps_frames), config.min_eps)\n",
    "                if done:\n",
    "                    break\n",
    "\n",
    "#             average10.append(rewards)\n",
    "            total_steps += episode_steps\n",
    "            print(\"Episode: {} | Reward: {} | Q Loss: {} | Steps: {}\".format(i, rewards, loss, steps,))\n",
    "            \n",
    "            wandb.log({\"Reward\": rewards,\n",
    "#                        \"Average10\": np.mean(average10),\n",
    "                       \"Steps\": total_steps,\n",
    "                       \"Q Loss\": loss,\n",
    "                       \"CQL Loss\": cql_loss,\n",
    "                       \"Bellmann error\": bellmann_error,\n",
    "                       \"Steps\": steps,\n",
    "                       \"Epsilon\": eps,\n",
    "                       \"Episode\": i,\n",
    "                       \"Buffer size\": buffer.__len__()})\n",
    "\n",
    "            if (i %10 == 0) and config.log_video:\n",
    "                mp4list = glob.glob('video/*.mp4')\n",
    "                if len(mp4list) > 1:\n",
    "                    mp4 = mp4list[-2]\n",
    "                    wandb.log({\"gameplays\": wandb.Video(mp4, caption='episode: '+str(i-10), fps=4, format=\"gif\"), \"Episode\": i})\n",
    "\n",
    "            if i % config.save_every == 0:\n",
    "                save(config, save_name=\"CQL-DQN\", model=agent.network, wandb=wandb, ep=0)\n",
    "\n",
    "if __name__ == \"__main__\":\n",
    "    config = get_config()\n",
    "    train(config)"
   ]
  }
 ],
 "metadata": {
  "kernelspec": {
   "display_name": "dqn",
   "language": "python",
   "name": "dqn"
  },
  "language_info": {
   "codemirror_mode": {
    "name": "ipython",
    "version": 3
   },
   "file_extension": ".py",
   "mimetype": "text/x-python",
   "name": "python",
   "nbconvert_exporter": "python",
   "pygments_lexer": "ipython3",
   "version": "3.9.12"
  },
  "toc": {
   "base_numbering": 1,
   "nav_menu": {},
   "number_sections": true,
   "sideBar": true,
   "skip_h1_title": false,
   "title_cell": "Table of Contents",
   "title_sidebar": "Contents",
   "toc_cell": false,
   "toc_position": {},
   "toc_section_display": true,
   "toc_window_display": false
  },
  "varInspector": {
   "cols": {
    "lenName": 16,
    "lenType": 16,
    "lenVar": 40
   },
   "kernels_config": {
    "python": {
     "delete_cmd_postfix": "",
     "delete_cmd_prefix": "del ",
     "library": "var_list.py",
     "varRefreshCmd": "print(var_dic_list())"
    },
    "r": {
     "delete_cmd_postfix": ") ",
     "delete_cmd_prefix": "rm(",
     "library": "var_list.r",
     "varRefreshCmd": "cat(var_dic_list()) "
    }
   },
   "types_to_exclude": [
    "module",
    "function",
    "builtin_function_or_method",
    "instance",
    "_Feature"
   ],
   "window_display": false
  }
 },
 "nbformat": 4,
 "nbformat_minor": 5
}
